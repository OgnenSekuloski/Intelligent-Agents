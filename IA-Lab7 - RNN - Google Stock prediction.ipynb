{
 "cells": [
  {
   "cell_type": "markdown",
   "metadata": {},
   "source": [
    "# Lab 6: RNN: Google Stocks prediction"
   ]
  },
  {
   "cell_type": "raw",
   "metadata": {},
   "source": [
    "Во оваа лабораториска вежба се тренира RNN модел за предвидување на висината на акциите.\n",
    "Треба да се предвиди цената со која ќе се отворат акциите на Google за месец јануари, 2017 година (почнувајќи од 03.01.2017). За анализа, тренирање и тестирање се користат податоци од акциите на Google од 2012 - 2016 година.\n",
    "За секој ден дадени се карактеристиките:\n",
    "    Open - цената со која се отвара трговијата на акции за тој ден\n",
    "    High - највисоката цена што се достигнува во трговијата на акции во текот на денот\n",
    "    Low - најниската цена што се достигнува за време на денот\n",
    "    Close - последната цена на тргување за време на тој ден\n",
    "    Volume - вкупниот број на акции истргувани во текот на тој ден\n",
    "Обработката на податоците (тренирањето и тестирањето) се прави само на првата карактеристика (open price). Другите четири се изоставаат."
   ]
  },
  {
   "cell_type": "markdown",
   "metadata": {},
   "source": [
    "## Import libraries"
   ]
  },
  {
   "cell_type": "code",
   "execution_count": 122,
   "metadata": {},
   "outputs": [],
   "source": [
    "import numpy as np\n",
    "import matplotlib.pyplot as plt\n",
    "import pandas as pd\n",
    "import seaborn as sns\n",
    "\n",
    "from sklearn.preprocessing import MinMaxScaler\n",
    "from sklearn.model_selection import train_test_split\n",
    "from sklearn.metrics import mean_squared_error\n",
    "from sklearn.metrics import mean_absolute_error\n",
    "\n",
    "import math\n",
    "\n",
    "from keras.callbacks import EarlyStopping\n",
    "from keras.models import Sequential\n",
    "\n",
    "from keras.layers import Dense\n",
    "from keras.layers import LSTM\n",
    "from keras.layers import Dropout"
   ]
  },
  {
   "cell_type": "markdown",
   "metadata": {},
   "source": [
    "## Import the Google Stock price datasets"
   ]
  },
  {
   "cell_type": "raw",
   "metadata": {},
   "source": [
    "Со помош на библиотеката pandas се читаат датотекатите кои ги содржат множествата множествата за тестирање и тренирање."
   ]
  },
  {
   "cell_type": "code",
   "execution_count": 152,
   "metadata": {},
   "outputs": [
    {
     "data": {
      "text/html": [
       "<div>\n",
       "<style scoped>\n",
       "    .dataframe tbody tr th:only-of-type {\n",
       "        vertical-align: middle;\n",
       "    }\n",
       "\n",
       "    .dataframe tbody tr th {\n",
       "        vertical-align: top;\n",
       "    }\n",
       "\n",
       "    .dataframe thead th {\n",
       "        text-align: right;\n",
       "    }\n",
       "</style>\n",
       "<table border=\"1\" class=\"dataframe\">\n",
       "  <thead>\n",
       "    <tr style=\"text-align: right;\">\n",
       "      <th></th>\n",
       "      <th>Date</th>\n",
       "      <th>Open</th>\n",
       "      <th>High</th>\n",
       "      <th>Low</th>\n",
       "      <th>Close</th>\n",
       "      <th>Volume</th>\n",
       "    </tr>\n",
       "  </thead>\n",
       "  <tbody>\n",
       "    <tr>\n",
       "      <td>0</td>\n",
       "      <td>1/3/2012</td>\n",
       "      <td>325.25</td>\n",
       "      <td>332.83</td>\n",
       "      <td>324.97</td>\n",
       "      <td>663.59</td>\n",
       "      <td>7,380,500</td>\n",
       "    </tr>\n",
       "    <tr>\n",
       "      <td>1</td>\n",
       "      <td>1/4/2012</td>\n",
       "      <td>331.27</td>\n",
       "      <td>333.87</td>\n",
       "      <td>329.08</td>\n",
       "      <td>666.45</td>\n",
       "      <td>5,749,400</td>\n",
       "    </tr>\n",
       "    <tr>\n",
       "      <td>2</td>\n",
       "      <td>1/5/2012</td>\n",
       "      <td>329.83</td>\n",
       "      <td>330.75</td>\n",
       "      <td>326.89</td>\n",
       "      <td>657.21</td>\n",
       "      <td>6,590,300</td>\n",
       "    </tr>\n",
       "    <tr>\n",
       "      <td>3</td>\n",
       "      <td>1/6/2012</td>\n",
       "      <td>328.34</td>\n",
       "      <td>328.77</td>\n",
       "      <td>323.68</td>\n",
       "      <td>648.24</td>\n",
       "      <td>5,405,900</td>\n",
       "    </tr>\n",
       "    <tr>\n",
       "      <td>4</td>\n",
       "      <td>1/9/2012</td>\n",
       "      <td>322.04</td>\n",
       "      <td>322.29</td>\n",
       "      <td>309.46</td>\n",
       "      <td>620.76</td>\n",
       "      <td>11,688,800</td>\n",
       "    </tr>\n",
       "    <tr>\n",
       "      <td>...</td>\n",
       "      <td>...</td>\n",
       "      <td>...</td>\n",
       "      <td>...</td>\n",
       "      <td>...</td>\n",
       "      <td>...</td>\n",
       "      <td>...</td>\n",
       "    </tr>\n",
       "    <tr>\n",
       "      <td>1253</td>\n",
       "      <td>12/23/2016</td>\n",
       "      <td>790.90</td>\n",
       "      <td>792.74</td>\n",
       "      <td>787.28</td>\n",
       "      <td>789.91</td>\n",
       "      <td>623,400</td>\n",
       "    </tr>\n",
       "    <tr>\n",
       "      <td>1254</td>\n",
       "      <td>12/27/2016</td>\n",
       "      <td>790.68</td>\n",
       "      <td>797.86</td>\n",
       "      <td>787.66</td>\n",
       "      <td>791.55</td>\n",
       "      <td>789,100</td>\n",
       "    </tr>\n",
       "    <tr>\n",
       "      <td>1255</td>\n",
       "      <td>12/28/2016</td>\n",
       "      <td>793.70</td>\n",
       "      <td>794.23</td>\n",
       "      <td>783.20</td>\n",
       "      <td>785.05</td>\n",
       "      <td>1,153,800</td>\n",
       "    </tr>\n",
       "    <tr>\n",
       "      <td>1256</td>\n",
       "      <td>12/29/2016</td>\n",
       "      <td>783.33</td>\n",
       "      <td>785.93</td>\n",
       "      <td>778.92</td>\n",
       "      <td>782.79</td>\n",
       "      <td>744,300</td>\n",
       "    </tr>\n",
       "    <tr>\n",
       "      <td>1257</td>\n",
       "      <td>12/30/2016</td>\n",
       "      <td>782.75</td>\n",
       "      <td>782.78</td>\n",
       "      <td>770.41</td>\n",
       "      <td>771.82</td>\n",
       "      <td>1,770,000</td>\n",
       "    </tr>\n",
       "  </tbody>\n",
       "</table>\n",
       "<p>1258 rows × 6 columns</p>\n",
       "</div>"
      ],
      "text/plain": [
       "            Date    Open    High     Low   Close      Volume\n",
       "0       1/3/2012  325.25  332.83  324.97  663.59   7,380,500\n",
       "1       1/4/2012  331.27  333.87  329.08  666.45   5,749,400\n",
       "2       1/5/2012  329.83  330.75  326.89  657.21   6,590,300\n",
       "3       1/6/2012  328.34  328.77  323.68  648.24   5,405,900\n",
       "4       1/9/2012  322.04  322.29  309.46  620.76  11,688,800\n",
       "...          ...     ...     ...     ...     ...         ...\n",
       "1253  12/23/2016  790.90  792.74  787.28  789.91     623,400\n",
       "1254  12/27/2016  790.68  797.86  787.66  791.55     789,100\n",
       "1255  12/28/2016  793.70  794.23  783.20  785.05   1,153,800\n",
       "1256  12/29/2016  783.33  785.93  778.92  782.79     744,300\n",
       "1257  12/30/2016  782.75  782.78  770.41  771.82   1,770,000\n",
       "\n",
       "[1258 rows x 6 columns]"
      ]
     },
     "execution_count": 152,
     "metadata": {},
     "output_type": "execute_result"
    }
   ],
   "source": [
    "train_dataset = pd.read_csv('Google_Stock_Price_Train.csv')\n",
    "train_dataset"
   ]
  },
  {
   "cell_type": "code",
   "execution_count": 124,
   "metadata": {},
   "outputs": [
    {
     "data": {
      "text/html": [
       "<div>\n",
       "<style scoped>\n",
       "    .dataframe tbody tr th:only-of-type {\n",
       "        vertical-align: middle;\n",
       "    }\n",
       "\n",
       "    .dataframe tbody tr th {\n",
       "        vertical-align: top;\n",
       "    }\n",
       "\n",
       "    .dataframe thead th {\n",
       "        text-align: right;\n",
       "    }\n",
       "</style>\n",
       "<table border=\"1\" class=\"dataframe\">\n",
       "  <thead>\n",
       "    <tr style=\"text-align: right;\">\n",
       "      <th></th>\n",
       "      <th>Date</th>\n",
       "      <th>Open</th>\n",
       "      <th>High</th>\n",
       "      <th>Low</th>\n",
       "      <th>Close</th>\n",
       "      <th>Volume</th>\n",
       "    </tr>\n",
       "  </thead>\n",
       "  <tbody>\n",
       "    <tr>\n",
       "      <td>0</td>\n",
       "      <td>1/3/2017</td>\n",
       "      <td>778.81</td>\n",
       "      <td>789.63</td>\n",
       "      <td>775.80</td>\n",
       "      <td>786.14</td>\n",
       "      <td>1,657,300</td>\n",
       "    </tr>\n",
       "    <tr>\n",
       "      <td>1</td>\n",
       "      <td>1/4/2017</td>\n",
       "      <td>788.36</td>\n",
       "      <td>791.34</td>\n",
       "      <td>783.16</td>\n",
       "      <td>786.90</td>\n",
       "      <td>1,073,000</td>\n",
       "    </tr>\n",
       "    <tr>\n",
       "      <td>2</td>\n",
       "      <td>1/5/2017</td>\n",
       "      <td>786.08</td>\n",
       "      <td>794.48</td>\n",
       "      <td>785.02</td>\n",
       "      <td>794.02</td>\n",
       "      <td>1,335,200</td>\n",
       "    </tr>\n",
       "    <tr>\n",
       "      <td>3</td>\n",
       "      <td>1/6/2017</td>\n",
       "      <td>795.26</td>\n",
       "      <td>807.90</td>\n",
       "      <td>792.20</td>\n",
       "      <td>806.15</td>\n",
       "      <td>1,640,200</td>\n",
       "    </tr>\n",
       "    <tr>\n",
       "      <td>4</td>\n",
       "      <td>1/9/2017</td>\n",
       "      <td>806.40</td>\n",
       "      <td>809.97</td>\n",
       "      <td>802.83</td>\n",
       "      <td>806.65</td>\n",
       "      <td>1,272,400</td>\n",
       "    </tr>\n",
       "    <tr>\n",
       "      <td>5</td>\n",
       "      <td>1/10/2017</td>\n",
       "      <td>807.86</td>\n",
       "      <td>809.13</td>\n",
       "      <td>803.51</td>\n",
       "      <td>804.79</td>\n",
       "      <td>1,176,800</td>\n",
       "    </tr>\n",
       "    <tr>\n",
       "      <td>6</td>\n",
       "      <td>1/11/2017</td>\n",
       "      <td>805.00</td>\n",
       "      <td>808.15</td>\n",
       "      <td>801.37</td>\n",
       "      <td>807.91</td>\n",
       "      <td>1,065,900</td>\n",
       "    </tr>\n",
       "    <tr>\n",
       "      <td>7</td>\n",
       "      <td>1/12/2017</td>\n",
       "      <td>807.14</td>\n",
       "      <td>807.39</td>\n",
       "      <td>799.17</td>\n",
       "      <td>806.36</td>\n",
       "      <td>1,353,100</td>\n",
       "    </tr>\n",
       "    <tr>\n",
       "      <td>8</td>\n",
       "      <td>1/13/2017</td>\n",
       "      <td>807.48</td>\n",
       "      <td>811.22</td>\n",
       "      <td>806.69</td>\n",
       "      <td>807.88</td>\n",
       "      <td>1,099,200</td>\n",
       "    </tr>\n",
       "    <tr>\n",
       "      <td>9</td>\n",
       "      <td>1/17/2017</td>\n",
       "      <td>807.08</td>\n",
       "      <td>807.14</td>\n",
       "      <td>800.37</td>\n",
       "      <td>804.61</td>\n",
       "      <td>1,362,100</td>\n",
       "    </tr>\n",
       "    <tr>\n",
       "      <td>10</td>\n",
       "      <td>1/18/2017</td>\n",
       "      <td>805.81</td>\n",
       "      <td>806.21</td>\n",
       "      <td>800.99</td>\n",
       "      <td>806.07</td>\n",
       "      <td>1,294,400</td>\n",
       "    </tr>\n",
       "    <tr>\n",
       "      <td>11</td>\n",
       "      <td>1/19/2017</td>\n",
       "      <td>805.12</td>\n",
       "      <td>809.48</td>\n",
       "      <td>801.80</td>\n",
       "      <td>802.17</td>\n",
       "      <td>919,300</td>\n",
       "    </tr>\n",
       "    <tr>\n",
       "      <td>12</td>\n",
       "      <td>1/20/2017</td>\n",
       "      <td>806.91</td>\n",
       "      <td>806.91</td>\n",
       "      <td>801.69</td>\n",
       "      <td>805.02</td>\n",
       "      <td>1,670,000</td>\n",
       "    </tr>\n",
       "    <tr>\n",
       "      <td>13</td>\n",
       "      <td>1/23/2017</td>\n",
       "      <td>807.25</td>\n",
       "      <td>820.87</td>\n",
       "      <td>803.74</td>\n",
       "      <td>819.31</td>\n",
       "      <td>1,963,600</td>\n",
       "    </tr>\n",
       "    <tr>\n",
       "      <td>14</td>\n",
       "      <td>1/24/2017</td>\n",
       "      <td>822.30</td>\n",
       "      <td>825.90</td>\n",
       "      <td>817.82</td>\n",
       "      <td>823.87</td>\n",
       "      <td>1,474,000</td>\n",
       "    </tr>\n",
       "    <tr>\n",
       "      <td>15</td>\n",
       "      <td>1/25/2017</td>\n",
       "      <td>829.62</td>\n",
       "      <td>835.77</td>\n",
       "      <td>825.06</td>\n",
       "      <td>835.67</td>\n",
       "      <td>1,494,500</td>\n",
       "    </tr>\n",
       "    <tr>\n",
       "      <td>16</td>\n",
       "      <td>1/26/2017</td>\n",
       "      <td>837.81</td>\n",
       "      <td>838.00</td>\n",
       "      <td>827.01</td>\n",
       "      <td>832.15</td>\n",
       "      <td>2,973,900</td>\n",
       "    </tr>\n",
       "    <tr>\n",
       "      <td>17</td>\n",
       "      <td>1/27/2017</td>\n",
       "      <td>834.71</td>\n",
       "      <td>841.95</td>\n",
       "      <td>820.44</td>\n",
       "      <td>823.31</td>\n",
       "      <td>2,965,800</td>\n",
       "    </tr>\n",
       "    <tr>\n",
       "      <td>18</td>\n",
       "      <td>1/30/2017</td>\n",
       "      <td>814.66</td>\n",
       "      <td>815.84</td>\n",
       "      <td>799.80</td>\n",
       "      <td>802.32</td>\n",
       "      <td>3,246,600</td>\n",
       "    </tr>\n",
       "    <tr>\n",
       "      <td>19</td>\n",
       "      <td>1/31/2017</td>\n",
       "      <td>796.86</td>\n",
       "      <td>801.25</td>\n",
       "      <td>790.52</td>\n",
       "      <td>796.79</td>\n",
       "      <td>2,160,600</td>\n",
       "    </tr>\n",
       "  </tbody>\n",
       "</table>\n",
       "</div>"
      ],
      "text/plain": [
       "         Date    Open    High     Low   Close     Volume\n",
       "0    1/3/2017  778.81  789.63  775.80  786.14  1,657,300\n",
       "1    1/4/2017  788.36  791.34  783.16  786.90  1,073,000\n",
       "2    1/5/2017  786.08  794.48  785.02  794.02  1,335,200\n",
       "3    1/6/2017  795.26  807.90  792.20  806.15  1,640,200\n",
       "4    1/9/2017  806.40  809.97  802.83  806.65  1,272,400\n",
       "5   1/10/2017  807.86  809.13  803.51  804.79  1,176,800\n",
       "6   1/11/2017  805.00  808.15  801.37  807.91  1,065,900\n",
       "7   1/12/2017  807.14  807.39  799.17  806.36  1,353,100\n",
       "8   1/13/2017  807.48  811.22  806.69  807.88  1,099,200\n",
       "9   1/17/2017  807.08  807.14  800.37  804.61  1,362,100\n",
       "10  1/18/2017  805.81  806.21  800.99  806.07  1,294,400\n",
       "11  1/19/2017  805.12  809.48  801.80  802.17    919,300\n",
       "12  1/20/2017  806.91  806.91  801.69  805.02  1,670,000\n",
       "13  1/23/2017  807.25  820.87  803.74  819.31  1,963,600\n",
       "14  1/24/2017  822.30  825.90  817.82  823.87  1,474,000\n",
       "15  1/25/2017  829.62  835.77  825.06  835.67  1,494,500\n",
       "16  1/26/2017  837.81  838.00  827.01  832.15  2,973,900\n",
       "17  1/27/2017  834.71  841.95  820.44  823.31  2,965,800\n",
       "18  1/30/2017  814.66  815.84  799.80  802.32  3,246,600\n",
       "19  1/31/2017  796.86  801.25  790.52  796.79  2,160,600"
      ]
     },
     "execution_count": 124,
     "metadata": {},
     "output_type": "execute_result"
    }
   ],
   "source": [
    "test_dataset = pd.read_csv('Google_Stock_Price_Test.csv')\n",
    "test_dataset"
   ]
  },
  {
   "cell_type": "code",
   "execution_count": 125,
   "metadata": {},
   "outputs": [],
   "source": [
    "train_data = train_dataset.iloc[:,1:2].values\n",
    "test_data = test_dataset.iloc[:,1:2].values"
   ]
  },
  {
   "cell_type": "code",
   "execution_count": 126,
   "metadata": {},
   "outputs": [
    {
     "data": {
      "text/plain": [
       "array([[325.25],\n",
       "       [331.27],\n",
       "       [329.83],\n",
       "       ...,\n",
       "       [793.7 ],\n",
       "       [783.33],\n",
       "       [782.75]])"
      ]
     },
     "execution_count": 126,
     "metadata": {},
     "output_type": "execute_result"
    }
   ],
   "source": [
    "train_data"
   ]
  },
  {
   "cell_type": "code",
   "execution_count": 127,
   "metadata": {},
   "outputs": [
    {
     "data": {
      "text/plain": [
       "array([[778.81],\n",
       "       [788.36],\n",
       "       [786.08],\n",
       "       [795.26],\n",
       "       [806.4 ],\n",
       "       [807.86],\n",
       "       [805.  ],\n",
       "       [807.14],\n",
       "       [807.48],\n",
       "       [807.08],\n",
       "       [805.81],\n",
       "       [805.12],\n",
       "       [806.91],\n",
       "       [807.25],\n",
       "       [822.3 ],\n",
       "       [829.62],\n",
       "       [837.81],\n",
       "       [834.71],\n",
       "       [814.66],\n",
       "       [796.86]])"
      ]
     },
     "execution_count": 127,
     "metadata": {},
     "output_type": "execute_result"
    }
   ],
   "source": [
    "test_data"
   ]
  },
  {
   "cell_type": "markdown",
   "metadata": {},
   "source": [
    "## Scaling"
   ]
  },
  {
   "cell_type": "raw",
   "metadata": {},
   "source": [
    "Скалирање на податоците во обем од 0 до 1, со minmaxScaler() функцијата"
   ]
  },
  {
   "cell_type": "code",
   "execution_count": 128,
   "metadata": {},
   "outputs": [],
   "source": [
    "scaler = MinMaxScaler() #default od 0 do 1\n",
    "train_data = scaler.fit_transform(train_data)"
   ]
  },
  {
   "cell_type": "code",
   "execution_count": 129,
   "metadata": {},
   "outputs": [
    {
     "data": {
      "text/plain": [
       "array([[0.08581368],\n",
       "       [0.09701243],\n",
       "       [0.09433366],\n",
       "       ...,\n",
       "       [0.95725128],\n",
       "       [0.93796041],\n",
       "       [0.93688146]])"
      ]
     },
     "execution_count": 129,
     "metadata": {},
     "output_type": "execute_result"
    }
   ],
   "source": [
    "train_data"
   ]
  },
  {
   "cell_type": "code",
   "execution_count": 130,
   "metadata": {},
   "outputs": [],
   "source": [
    "inputs = scaler.transform(test_data)"
   ]
  },
  {
   "cell_type": "code",
   "execution_count": 131,
   "metadata": {},
   "outputs": [
    {
     "data": {
      "text/plain": [
       "array([[0.92955205],\n",
       "       [0.94731751],\n",
       "       [0.94307612],\n",
       "       [0.96015329],\n",
       "       [0.98087655],\n",
       "       [0.98359253],\n",
       "       [0.97827219],\n",
       "       [0.98225314],\n",
       "       [0.98288563],\n",
       "       [0.98214153],\n",
       "       [0.979779  ],\n",
       "       [0.97849542],\n",
       "       [0.98182528],\n",
       "       [0.98245777],\n",
       "       [1.01045465],\n",
       "       [1.02407173],\n",
       "       [1.03930724],\n",
       "       [1.03354044],\n",
       "       [0.99624228],\n",
       "       [0.9631297 ]])"
      ]
     },
     "execution_count": 131,
     "metadata": {},
     "output_type": "execute_result"
    }
   ],
   "source": [
    "inputs"
   ]
  },
  {
   "cell_type": "code",
   "execution_count": 132,
   "metadata": {},
   "outputs": [
    {
     "data": {
      "text/plain": [
       "1258"
      ]
     },
     "execution_count": 132,
     "metadata": {},
     "output_type": "execute_result"
    }
   ],
   "source": [
    "train_data.size"
   ]
  },
  {
   "cell_type": "code",
   "execution_count": 133,
   "metadata": {},
   "outputs": [
    {
     "data": {
      "text/plain": [
       "20"
      ]
     },
     "execution_count": 133,
     "metadata": {},
     "output_type": "execute_result"
    }
   ],
   "source": [
    "inputs.size"
   ]
  },
  {
   "cell_type": "markdown",
   "metadata": {},
   "source": [
    "## Partitioning data into features/labels"
   ]
  },
  {
   "cell_type": "raw",
   "metadata": {},
   "source": [
    "Поделба на податоците во променливите X и Y, соодветно. Х - feture vectors... Y - класата"
   ]
  },
  {
   "cell_type": "code",
   "execution_count": 134,
   "metadata": {},
   "outputs": [],
   "source": [
    "x_train = train_data[:-1]\n",
    "y_train = train_data[1:]"
   ]
  },
  {
   "cell_type": "markdown",
   "metadata": {},
   "source": [
    "## Build the model"
   ]
  },
  {
   "cell_type": "raw",
   "metadata": {},
   "source": [
    "Градење на рекурентната невронска мрежа бара конфигурирање на слоевите од моделот, а потоа компајлирање на моделот."
   ]
  },
  {
   "cell_type": "markdown",
   "metadata": {},
   "source": [
    "### Преобликување (reshaping) на влезните податоци за да се прилагодат на RNN слоевите во Keras"
   ]
  },
  {
   "cell_type": "code",
   "execution_count": 135,
   "metadata": {},
   "outputs": [],
   "source": [
    "x_train = np.reshape(x_train, (1257, 1, 1))\n",
    "inputs = np.reshape(inputs, (20, 1, 1))"
   ]
  },
  {
   "cell_type": "markdown",
   "metadata": {},
   "source": [
    "### Дефинирање на моделот со рекурентна невронска мрежа"
   ]
  },
  {
   "cell_type": "code",
   "execution_count": 136,
   "metadata": {},
   "outputs": [],
   "source": [
    "regressor = Sequential()\n",
    "regressor.add(LSTM(units = 4, activation = 'sigmoid', input_shape = (None, 1)))\n",
    "regressor.add(Dense(units = 1))"
   ]
  },
  {
   "cell_type": "raw",
   "metadata": {},
   "source": [
    "LSTM е влезен слој со активациска функција sigmoid.\n",
    "Излезен е Dense слојот со еден јазол."
   ]
  },
  {
   "cell_type": "markdown",
   "metadata": {},
   "source": [
    "### Compile the model"
   ]
  },
  {
   "cell_type": "code",
   "execution_count": 137,
   "metadata": {},
   "outputs": [],
   "source": [
    "regressor.compile(optimizer = 'adam', \n",
    "                  loss = 'mean_squared_error')"
   ]
  },
  {
   "cell_type": "markdown",
   "metadata": {},
   "source": [
    "## Train the model"
   ]
  },
  {
   "cell_type": "code",
   "execution_count": 138,
   "metadata": {},
   "outputs": [
    {
     "name": "stdout",
     "output_type": "stream",
     "text": [
      "Epoch 1/100\n",
      "40/40 [==============================] - 0s 1ms/step - loss: 0.2029\n",
      "Epoch 2/100\n",
      "40/40 [==============================] - 0s 1ms/step - loss: 0.1440\n",
      "Epoch 3/100\n",
      "40/40 [==============================] - 0s 1ms/step - loss: 0.1095\n",
      "Epoch 4/100\n",
      "40/40 [==============================] - 0s 1ms/step - loss: 0.0919\n",
      "Epoch 5/100\n",
      "40/40 [==============================] - 0s 1ms/step - loss: 0.0838\n",
      "Epoch 6/100\n",
      "40/40 [==============================] - 0s 1ms/step - loss: 0.0801\n",
      "Epoch 7/100\n",
      "40/40 [==============================] - 0s 1ms/step - loss: 0.0778\n",
      "Epoch 8/100\n",
      "40/40 [==============================] - 0s 1ms/step - loss: 0.0759\n",
      "Epoch 9/100\n",
      "40/40 [==============================] - 0s 1ms/step - loss: 0.0741\n",
      "Epoch 10/100\n",
      "40/40 [==============================] - 0s 1ms/step - loss: 0.0723\n",
      "Epoch 11/100\n",
      "40/40 [==============================] - 0s 1ms/step - loss: 0.0705\n",
      "Epoch 12/100\n",
      "40/40 [==============================] - 0s 1ms/step - loss: 0.0686\n",
      "Epoch 13/100\n",
      "40/40 [==============================] - 0s 1ms/step - loss: 0.0667\n",
      "Epoch 14/100\n",
      "40/40 [==============================] - 0s 1ms/step - loss: 0.0648\n",
      "Epoch 15/100\n",
      "40/40 [==============================] - 0s 1ms/step - loss: 0.0630\n",
      "Epoch 16/100\n",
      "40/40 [==============================] - 0s 1ms/step - loss: 0.0610\n",
      "Epoch 17/100\n",
      "40/40 [==============================] - 0s 1ms/step - loss: 0.0591\n",
      "Epoch 18/100\n",
      "40/40 [==============================] - 0s 1ms/step - loss: 0.0572\n",
      "Epoch 19/100\n",
      "40/40 [==============================] - 0s 1ms/step - loss: 0.0552\n",
      "Epoch 20/100\n",
      "40/40 [==============================] - 0s 1ms/step - loss: 0.0533\n",
      "Epoch 21/100\n",
      "40/40 [==============================] - 0s 1ms/step - loss: 0.0513\n",
      "Epoch 22/100\n",
      "40/40 [==============================] - 0s 1ms/step - loss: 0.0493\n",
      "Epoch 23/100\n",
      "40/40 [==============================] - 0s 1ms/step - loss: 0.0473\n",
      "Epoch 24/100\n",
      "40/40 [==============================] - 0s 1ms/step - loss: 0.0453\n",
      "Epoch 25/100\n",
      "40/40 [==============================] - 0s 1ms/step - loss: 0.0433\n",
      "Epoch 26/100\n",
      "40/40 [==============================] - 0s 1ms/step - loss: 0.0414\n",
      "Epoch 27/100\n",
      "40/40 [==============================] - 0s 1ms/step - loss: 0.0394\n",
      "Epoch 28/100\n",
      "40/40 [==============================] - 0s 1ms/step - loss: 0.0374\n",
      "Epoch 29/100\n",
      "40/40 [==============================] - 0s 1ms/step - loss: 0.0355\n",
      "Epoch 30/100\n",
      "40/40 [==============================] - 0s 1ms/step - loss: 0.0335\n",
      "Epoch 31/100\n",
      "40/40 [==============================] - 0s 1ms/step - loss: 0.0316\n",
      "Epoch 32/100\n",
      "40/40 [==============================] - 0s 1ms/step - loss: 0.0297\n",
      "Epoch 33/100\n",
      "40/40 [==============================] - 0s 1ms/step - loss: 0.0278\n",
      "Epoch 34/100\n",
      "40/40 [==============================] - 0s 1ms/step - loss: 0.0260\n",
      "Epoch 35/100\n",
      "40/40 [==============================] - 0s 1ms/step - loss: 0.0242\n",
      "Epoch 36/100\n",
      "40/40 [==============================] - 0s 1ms/step - loss: 0.0225\n",
      "Epoch 37/100\n",
      "40/40 [==============================] - 0s 1ms/step - loss: 0.0207\n",
      "Epoch 38/100\n",
      "40/40 [==============================] - 0s 1ms/step - loss: 0.0190\n",
      "Epoch 39/100\n",
      "40/40 [==============================] - 0s 1ms/step - loss: 0.0175\n",
      "Epoch 40/100\n",
      "40/40 [==============================] - 0s 1ms/step - loss: 0.0159\n",
      "Epoch 41/100\n",
      "40/40 [==============================] - 0s 1ms/step - loss: 0.0144\n",
      "Epoch 42/100\n",
      "40/40 [==============================] - 0s 1ms/step - loss: 0.0131\n",
      "Epoch 43/100\n",
      "40/40 [==============================] - 0s 1ms/step - loss: 0.0117\n",
      "Epoch 44/100\n",
      "40/40 [==============================] - 0s 1ms/step - loss: 0.0105\n",
      "Epoch 45/100\n",
      "40/40 [==============================] - 0s 1ms/step - loss: 0.0094\n",
      "Epoch 46/100\n",
      "40/40 [==============================] - 0s 1ms/step - loss: 0.0083\n",
      "Epoch 47/100\n",
      "40/40 [==============================] - 0s 1ms/step - loss: 0.0073\n",
      "Epoch 48/100\n",
      "40/40 [==============================] - 0s 1ms/step - loss: 0.0064\n",
      "Epoch 49/100\n",
      "40/40 [==============================] - 0s 1ms/step - loss: 0.0056\n",
      "Epoch 50/100\n",
      "40/40 [==============================] - 0s 1ms/step - loss: 0.0049\n",
      "Epoch 51/100\n",
      "40/40 [==============================] - 0s 1ms/step - loss: 0.0042\n",
      "Epoch 52/100\n",
      "40/40 [==============================] - 0s 1ms/step - loss: 0.0036\n",
      "Epoch 53/100\n",
      "40/40 [==============================] - 0s 1ms/step - loss: 0.0031\n",
      "Epoch 54/100\n",
      "40/40 [==============================] - 0s 1ms/step - loss: 0.0026\n",
      "Epoch 55/100\n",
      "40/40 [==============================] - 0s 1ms/step - loss: 0.0023\n",
      "Epoch 56/100\n",
      "40/40 [==============================] - 0s 1ms/step - loss: 0.0019\n",
      "Epoch 57/100\n",
      "40/40 [==============================] - 0s 1ms/step - loss: 0.0016\n",
      "Epoch 58/100\n",
      "40/40 [==============================] - 0s 1ms/step - loss: 0.0014\n",
      "Epoch 59/100\n",
      "40/40 [==============================] - 0s 1ms/step - loss: 0.0012\n",
      "Epoch 60/100\n",
      "40/40 [==============================] - 0s 1ms/step - loss: 9.9129e-04\n",
      "Epoch 61/100\n",
      "40/40 [==============================] - 0s 1ms/step - loss: 8.4480e-04\n",
      "Epoch 62/100\n",
      "40/40 [==============================] - 0s 1ms/step - loss: 7.2759e-04\n",
      "Epoch 63/100\n",
      "40/40 [==============================] - 0s 1ms/step - loss: 6.3099e-04\n",
      "Epoch 64/100\n",
      "40/40 [==============================] - 0s 1ms/step - loss: 5.5348e-04\n",
      "Epoch 65/100\n",
      "40/40 [==============================] - 0s 1ms/step - loss: 4.9007e-04\n",
      "Epoch 66/100\n",
      "40/40 [==============================] - 0s 1ms/step - loss: 4.4186e-04\n",
      "Epoch 67/100\n",
      "40/40 [==============================] - 0s 1ms/step - loss: 4.0183e-04\n",
      "Epoch 68/100\n",
      "40/40 [==============================] - 0s 1ms/step - loss: 3.7162e-04\n",
      "Epoch 69/100\n",
      "40/40 [==============================] - 0s 1ms/step - loss: 3.4794e-04\n",
      "Epoch 70/100\n",
      "40/40 [==============================] - 0s 1ms/step - loss: 3.3023e-04\n",
      "Epoch 71/100\n",
      "40/40 [==============================] - 0s 1ms/step - loss: 3.1699e-04\n",
      "Epoch 72/100\n",
      "40/40 [==============================] - 0s 1ms/step - loss: 3.0561e-04\n",
      "Epoch 73/100\n",
      "40/40 [==============================] - 0s 1ms/step - loss: 2.9660e-04\n",
      "Epoch 74/100\n",
      "40/40 [==============================] - 0s 1ms/step - loss: 2.9116e-04\n",
      "Epoch 75/100\n",
      "40/40 [==============================] - 0s 1ms/step - loss: 2.8635e-04\n",
      "Epoch 76/100\n",
      "40/40 [==============================] - 0s 1ms/step - loss: 2.8365e-04\n",
      "Epoch 77/100\n",
      "40/40 [==============================] - 0s 1ms/step - loss: 2.8107e-04\n",
      "Epoch 78/100\n",
      "40/40 [==============================] - 0s 1ms/step - loss: 2.7905e-04\n",
      "Epoch 79/100\n",
      "40/40 [==============================] - 0s 1ms/step - loss: 2.7769e-04\n",
      "Epoch 80/100\n",
      "40/40 [==============================] - 0s 1ms/step - loss: 2.7672e-04\n",
      "Epoch 81/100\n",
      "40/40 [==============================] - 0s 1ms/step - loss: 2.7606e-04\n",
      "Epoch 82/100\n",
      "40/40 [==============================] - 0s 1ms/step - loss: 2.7533e-04\n",
      "Epoch 83/100\n",
      "40/40 [==============================] - 0s 1ms/step - loss: 2.7526e-04\n",
      "Epoch 84/100\n",
      "40/40 [==============================] - 0s 1ms/step - loss: 2.7435e-04\n",
      "Epoch 85/100\n",
      "40/40 [==============================] - 0s 1ms/step - loss: 2.7445e-04\n",
      "Epoch 86/100\n",
      "40/40 [==============================] - 0s 1ms/step - loss: 2.7381e-04\n",
      "Epoch 87/100\n",
      "40/40 [==============================] - 0s 1ms/step - loss: 2.7536e-04\n",
      "Epoch 88/100\n",
      "40/40 [==============================] - 0s 1ms/step - loss: 2.7395e-04\n",
      "Epoch 89/100\n",
      "40/40 [==============================] - 0s 1ms/step - loss: 2.7313e-04\n",
      "Epoch 90/100\n",
      "40/40 [==============================] - 0s 1ms/step - loss: 2.7301e-04\n",
      "Epoch 91/100\n",
      "40/40 [==============================] - 0s 1ms/step - loss: 2.7284e-04\n",
      "Epoch 92/100\n",
      "40/40 [==============================] - 0s 1ms/step - loss: 2.7192e-04\n",
      "Epoch 93/100\n",
      "40/40 [==============================] - 0s 1ms/step - loss: 2.7212e-04\n",
      "Epoch 94/100\n",
      "40/40 [==============================] - 0s 1ms/step - loss: 2.7202e-04\n",
      "Epoch 95/100\n",
      "40/40 [==============================] - 0s 1ms/step - loss: 2.7185e-04\n",
      "Epoch 96/100\n",
      "40/40 [==============================] - 0s 1ms/step - loss: 2.7144e-04\n",
      "Epoch 97/100\n",
      "40/40 [==============================] - 0s 1ms/step - loss: 2.7110e-04\n",
      "Epoch 98/100\n",
      "40/40 [==============================] - 0s 1ms/step - loss: 2.7170e-04\n",
      "Epoch 99/100\n",
      "40/40 [==============================] - 0s 1ms/step - loss: 2.7081e-04\n",
      "Epoch 100/100\n",
      "40/40 [==============================] - 0s 1ms/step - loss: 2.7026e-04\n"
     ]
    },
    {
     "data": {
      "text/plain": [
       "<tensorflow.python.keras.callbacks.History at 0x7f8f8829f150>"
      ]
     },
     "execution_count": 138,
     "metadata": {},
     "output_type": "execute_result"
    }
   ],
   "source": [
    "regressor.fit(x_train, y_train, batch_size = 32, epochs = 100)"
   ]
  },
  {
   "cell_type": "markdown",
   "metadata": {},
   "source": [
    "## Make predictions"
   ]
  },
  {
   "cell_type": "code",
   "execution_count": 139,
   "metadata": {},
   "outputs": [],
   "source": [
    "predicted = regressor.predict(inputs)\n",
    "predicted = scaler.inverse_transform(predicted)"
   ]
  },
  {
   "cell_type": "code",
   "execution_count": 140,
   "metadata": {},
   "outputs": [
    {
     "data": {
      "text/plain": [
       "array([772.31134], dtype=float32)"
      ]
     },
     "execution_count": 140,
     "metadata": {},
     "output_type": "execute_result"
    }
   ],
   "source": [
    "predicted[0]"
   ]
  },
  {
   "cell_type": "code",
   "execution_count": 141,
   "metadata": {},
   "outputs": [
    {
     "data": {
      "text/plain": [
       "array([778.81])"
      ]
     },
     "execution_count": 141,
     "metadata": {},
     "output_type": "execute_result"
    }
   ],
   "source": [
    "test_data[0]"
   ]
  },
  {
   "cell_type": "code",
   "execution_count": 142,
   "metadata": {},
   "outputs": [
    {
     "data": {
      "text/plain": [
       "(20, 1)"
      ]
     },
     "execution_count": 142,
     "metadata": {},
     "output_type": "execute_result"
    }
   ],
   "source": [
    "predicted.shape"
   ]
  },
  {
   "cell_type": "code",
   "execution_count": 143,
   "metadata": {},
   "outputs": [
    {
     "data": {
      "text/plain": [
       "(20, 1)"
      ]
     },
     "execution_count": 143,
     "metadata": {},
     "output_type": "execute_result"
    }
   ],
   "source": [
    "test_data.shape"
   ]
  },
  {
   "cell_type": "markdown",
   "metadata": {},
   "source": [
    "## Evaluate accuracy (MAE & RMSE)"
   ]
  },
  {
   "cell_type": "code",
   "execution_count": 144,
   "metadata": {},
   "outputs": [
    {
     "name": "stdout",
     "output_type": "stream",
     "text": [
      "Test Root Mean Squared Error: 11.016933368942038\n",
      "Test Mean Absolute Error: 10.758800292968743\n"
     ]
    }
   ],
   "source": [
    "rmse = math.sqrt(mean_squared_error(test_data, predicted))\n",
    "print('Test Root Mean Squared Error:', rmse)\n",
    "mae = mean_absolute_error(test_data, predicted)\n",
    "print('Test Mean Absolute Error:', mae)"
   ]
  },
  {
   "cell_type": "markdown",
   "metadata": {},
   "source": [
    "## Visualizing Actual Google Stock Price vs Predicted Google Stock Price"
   ]
  },
  {
   "cell_type": "code",
   "execution_count": 146,
   "metadata": {},
   "outputs": [
    {
     "data": {
      "image/png": "[encoded data removed]",
      "text/plain": [
       "<Figure size 432x288 with 1 Axes>"
      ]
     },
     "metadata": {
      "needs_background": "light"
     },
     "output_type": "display_data"
    }
   ],
   "source": [
    "plt.figure()\n",
    "plt.plot(test_data, color='red', label = 'Real Google Stock Price')\n",
    "plt.plot(predicted, color='blue', label = 'Predicted Google Stock Price')\n",
    "plt.title('Google Stock Price Prediction')\n",
    "plt.xlabel('Time')\n",
    "plt.ylabel('Google Time Price')\n",
    "plt.legend()\n",
    "plt.show()"
   ]
  },
  {
   "cell_type": "markdown",
   "metadata": {},
   "source": [
    "## MAE plot"
   ]
  },
  {
   "cell_type": "code",
   "execution_count": 148,
   "metadata": {},
   "outputs": [
    {
     "data": {
      "image/png": "[encoded data removed]",
      "text/plain": [
       "<Figure size 432x288 with 1 Axes>"
      ]
     },
     "metadata": {
      "needs_background": "light"
     },
     "output_type": "display_data"
    }
   ],
   "source": [
    "plt.figure()\n",
    "plt.plot(np.abs(test_data - predicted), color='red', label = 'Mean Absolute Error')\n",
    "plt.title('Mean Absolute Error')\n",
    "plt.xlabel('Time')\n",
    "plt.ylabel('Google Time Price absolut difference')\n",
    "plt.legend()\n",
    "plt.show()"
   ]
  },
  {
   "cell_type": "markdown",
   "metadata": {},
   "source": [
    "# TODO"
   ]
  },
  {
   "cell_type": "raw",
   "metadata": {},
   "source": [
    "Креирај модел со 4 RNN (LSTM) и еден Dense слој.\n",
    "\n",
    "- Прв LSTM слој со 50 јазли со вклучени return_sequences и без активациска функција. После тој слој dropout слој со стапка на испуштање од 20%.\n",
    "- Втор LSTM слој повторно со 50 јазли, а следен од dropout слој со стапка на испуштање од 20%.\n",
    "- Трет LSTM слој со ист број на јазли како и претходните и следен од dropout слој повторно од иста стапка на испуштање.\n",
    "- Последниот пар на LSTM и dropout слоеви со исти карактеристики како и претходните три.\n",
    "- На крај како излезен слој вклучи Dense слој со еден јазол."
   ]
  },
  {
   "cell_type": "code",
   "execution_count": null,
   "metadata": {},
   "outputs": [],
   "source": []
  },
  {
   "cell_type": "raw",
   "metadata": {},
   "source": [
    "Искомпалирај го моделот со (optimizer = 'adam', loss = 'mean_squared_error')."
   ]
  },
  {
   "cell_type": "code",
   "execution_count": null,
   "metadata": {},
   "outputs": [],
   "source": []
  },
  {
   "cell_type": "raw",
   "metadata": {},
   "source": [
    "Истренирај го моделот со 100 епохи и batch_size од 32, а потоа пробај и со различен број на епохи."
   ]
  },
  {
   "cell_type": "code",
   "execution_count": null,
   "metadata": {},
   "outputs": [],
   "source": []
  },
  {
   "cell_type": "raw",
   "metadata": {},
   "source": [
    "Најди ја точноста со евалуациските метрики MAE и MSE."
   ]
  },
  {
   "cell_type": "code",
   "execution_count": null,
   "metadata": {},
   "outputs": [],
   "source": []
  },
  {
   "cell_type": "raw",
   "metadata": {},
   "source": [
    "Покажи го предвидувањето за 20 јануари, исто така испечати го и излезот од тест множеството за тој ден и спореди ги."
   ]
  },
  {
   "cell_type": "code",
   "execution_count": null,
   "metadata": {},
   "outputs": [],
   "source": []
  },
  {
   "cell_type": "raw",
   "metadata": {},
   "source": [
    "Визуелизирај ги вистинските наспроти предвидените вредности од тест множеството."
   ]
  },
  {
   "cell_type": "code",
   "execution_count": null,
   "metadata": {},
   "outputs": [],
   "source": []
  },
  {
   "cell_type": "raw",
   "metadata": {},
   "source": [
    "Исцртај го графикот за RMSE од тест множеството."
   ]
  },
  {
   "cell_type": "code",
   "execution_count": null,
   "metadata": {},
   "outputs": [],
   "source": []
  }
 ],
 "metadata": {
  "kernelspec": {
   "display_name": "Python 3",
   "language": "python",
   "name": "python3"
  },
  "language_info": {
   "codemirror_mode": {
    "name": "ipython",
    "version": 3
   },
   "file_extension": ".py",
   "mimetype": "text/x-python",
   "name": "python",
   "nbconvert_exporter": "python",
   "pygments_lexer": "ipython3",
   "version": "3.7.4"
  }
 },
 "nbformat": 4,
 "nbformat_minor": 2
}
