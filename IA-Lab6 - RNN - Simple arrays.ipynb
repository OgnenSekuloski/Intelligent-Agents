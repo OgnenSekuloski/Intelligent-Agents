{
 "cells": [
  {
   "cell_type": "markdown",
   "metadata": {
    "colab_type": "text",
    "id": "VwaHxPqrnGCg"
   },
   "source": [
    "# Lab6 - RNN\n"
   ]
  },
  {
   "cell_type": "markdown",
   "metadata": {
    "colab_type": "text",
    "id": "dHsZmhiawSKu"
   },
   "source": [
    "## Create data\n",
    "\n",
    "Create 10 inputs and 10 outputs. Each input is one time-step, and contains a single feature. \n",
    "\n",
    "Each output value is 5 times the corresponding input value. "
   ]
  },
  {
   "cell_type": "code",
   "execution_count": 1,
   "metadata": {
    "colab": {},
    "colab_type": "code",
    "id": "nOP8U3Myvinz"
   },
   "outputs": [
    {
     "name": "stdout",
     "output_type": "stream",
     "text": [
      "[1, 2, 3, 4, 5, 6, 7, 8, 9, 10]\n",
      "[5, 10, 15, 20, 25, 30, 35, 40, 45, 50]\n"
     ]
    }
   ],
   "source": [
    "X = list()\n",
    "Y = list()\n",
    "X = [x+1 for x in range(10)]\n",
    "Y = [y * 5 for y in X]\n",
    "\n",
    "print(X)\n",
    "print(Y)"
   ]
  },
  {
   "cell_type": "markdown",
   "metadata": {
    "colab_type": "text",
    "id": "4SHcQ-fJwPT4"
   },
   "source": [
    "## Reshape Data\n",
    "The input to the RNN layer should be in 3D shape i.e. (samples, time-steps, features).\n",
    "- The samples are the number of samples in the input data. We have 10 samples in the input. \n",
    "- The time-steps is the number of time-steps per sample. We have 1 time-step. \n",
    "- Finally, features correspond to the number of features per time-step. We have one feature per time-step (univariate time series)\n",
    "\n",
    "**model.add(SimpleRNN(50, activation='relu', input_shape=(n_steps, n_features)))**"
   ]
  },
  {
   "cell_type": "code",
   "execution_count": 2,
   "metadata": {
    "colab": {},
    "colab_type": "code",
    "id": "Hf98maWmw_GY"
   },
   "outputs": [],
   "source": [
    "import numpy as np\n",
    "\n",
    "X = np.array(X).reshape(10, 1, 1)"
   ]
  },
  {
   "cell_type": "code",
   "execution_count": 3,
   "metadata": {
    "colab": {},
    "colab_type": "code",
    "id": "NQwnf8FmH8Nz"
   },
   "outputs": [
    {
     "data": {
      "text/plain": [
       "array([1])"
      ]
     },
     "execution_count": 3,
     "metadata": {},
     "output_type": "execute_result"
    }
   ],
   "source": [
    "X[0][0]"
   ]
  },
  {
   "cell_type": "markdown",
   "metadata": {
    "colab_type": "text",
    "id": "g1fKEOPXxEEX"
   },
   "source": [
    "## Create the model\n",
    "\n",
    "The model has RNN layer with 50 neurons and relu activation functions. \n",
    "<br>The input shape is (1,1) since the data has one time-step with one feature. "
   ]
  },
  {
   "cell_type": "code",
   "execution_count": 4,
   "metadata": {
    "colab": {},
    "colab_type": "code",
    "id": "D-J5maCdxJoE"
   },
   "outputs": [
    {
     "name": "stderr",
     "output_type": "stream",
     "text": [
      "d:\\Programs\\Anaconda\\envs\\IA\\Lib\\site-packages\\keras\\src\\layers\\rnn\\rnn.py:204: UserWarning: Do not pass an `input_shape`/`input_dim` argument to a layer. When using Sequential models, prefer using an `Input(shape)` object as the first layer in the model instead.\n",
      "  super().__init__(**kwargs)\n"
     ]
    },
    {
     "data": {
      "text/html": [
       "<pre style=\"white-space:pre;overflow-x:auto;line-height:normal;font-family:Menlo,'DejaVu Sans Mono',consolas,'Courier New',monospace\"><span style=\"font-weight: bold\">Model: \"sequential\"</span>\n",
       "</pre>\n"
      ],
      "text/plain": [
       "\u001b[1mModel: \"sequential\"\u001b[0m\n"
      ]
     },
     "metadata": {},
     "output_type": "display_data"
    },
    {
     "data": {
      "text/html": [
       "<pre style=\"white-space:pre;overflow-x:auto;line-height:normal;font-family:Menlo,'DejaVu Sans Mono',consolas,'Courier New',monospace\">┏━━━━━━━━━━━━━━━━━━━━━━━━━━━━━━━━━┳━━━━━━━━━━━━━━━━━━━━━━━━┳━━━━━━━━━━━━━━━┓\n",
       "┃<span style=\"font-weight: bold\"> Layer (type)                    </span>┃<span style=\"font-weight: bold\"> Output Shape           </span>┃<span style=\"font-weight: bold\">       Param # </span>┃\n",
       "┡━━━━━━━━━━━━━━━━━━━━━━━━━━━━━━━━━╇━━━━━━━━━━━━━━━━━━━━━━━━╇━━━━━━━━━━━━━━━┩\n",
       "│ simple_rnn (<span style=\"color: #0087ff; text-decoration-color: #0087ff\">SimpleRNN</span>)          │ (<span style=\"color: #00d7ff; text-decoration-color: #00d7ff\">None</span>, <span style=\"color: #00af00; text-decoration-color: #00af00\">50</span>)             │         <span style=\"color: #00af00; text-decoration-color: #00af00\">2,600</span> │\n",
       "├─────────────────────────────────┼────────────────────────┼───────────────┤\n",
       "│ dense (<span style=\"color: #0087ff; text-decoration-color: #0087ff\">Dense</span>)                   │ (<span style=\"color: #00d7ff; text-decoration-color: #00d7ff\">None</span>, <span style=\"color: #00af00; text-decoration-color: #00af00\">1</span>)              │            <span style=\"color: #00af00; text-decoration-color: #00af00\">51</span> │\n",
       "└─────────────────────────────────┴────────────────────────┴───────────────┘\n",
       "</pre>\n"
      ],
      "text/plain": [
       "┏━━━━━━━━━━━━━━━━━━━━━━━━━━━━━━━━━┳━━━━━━━━━━━━━━━━━━━━━━━━┳━━━━━━━━━━━━━━━┓\n",
       "┃\u001b[1m \u001b[0m\u001b[1mLayer (type)                   \u001b[0m\u001b[1m \u001b[0m┃\u001b[1m \u001b[0m\u001b[1mOutput Shape          \u001b[0m\u001b[1m \u001b[0m┃\u001b[1m \u001b[0m\u001b[1m      Param #\u001b[0m\u001b[1m \u001b[0m┃\n",
       "┡━━━━━━━━━━━━━━━━━━━━━━━━━━━━━━━━━╇━━━━━━━━━━━━━━━━━━━━━━━━╇━━━━━━━━━━━━━━━┩\n",
       "│ simple_rnn (\u001b[38;5;33mSimpleRNN\u001b[0m)          │ (\u001b[38;5;45mNone\u001b[0m, \u001b[38;5;34m50\u001b[0m)             │         \u001b[38;5;34m2,600\u001b[0m │\n",
       "├─────────────────────────────────┼────────────────────────┼───────────────┤\n",
       "│ dense (\u001b[38;5;33mDense\u001b[0m)                   │ (\u001b[38;5;45mNone\u001b[0m, \u001b[38;5;34m1\u001b[0m)              │            \u001b[38;5;34m51\u001b[0m │\n",
       "└─────────────────────────────────┴────────────────────────┴───────────────┘\n"
      ]
     },
     "metadata": {},
     "output_type": "display_data"
    },
    {
     "data": {
      "text/html": [
       "<pre style=\"white-space:pre;overflow-x:auto;line-height:normal;font-family:Menlo,'DejaVu Sans Mono',consolas,'Courier New',monospace\"><span style=\"font-weight: bold\"> Total params: </span><span style=\"color: #00af00; text-decoration-color: #00af00\">2,651</span> (10.36 KB)\n",
       "</pre>\n"
      ],
      "text/plain": [
       "\u001b[1m Total params: \u001b[0m\u001b[38;5;34m2,651\u001b[0m (10.36 KB)\n"
      ]
     },
     "metadata": {},
     "output_type": "display_data"
    },
    {
     "data": {
      "text/html": [
       "<pre style=\"white-space:pre;overflow-x:auto;line-height:normal;font-family:Menlo,'DejaVu Sans Mono',consolas,'Courier New',monospace\"><span style=\"font-weight: bold\"> Trainable params: </span><span style=\"color: #00af00; text-decoration-color: #00af00\">2,651</span> (10.36 KB)\n",
       "</pre>\n"
      ],
      "text/plain": [
       "\u001b[1m Trainable params: \u001b[0m\u001b[38;5;34m2,651\u001b[0m (10.36 KB)\n"
      ]
     },
     "metadata": {},
     "output_type": "display_data"
    },
    {
     "data": {
      "text/html": [
       "<pre style=\"white-space:pre;overflow-x:auto;line-height:normal;font-family:Menlo,'DejaVu Sans Mono',consolas,'Courier New',monospace\"><span style=\"font-weight: bold\"> Non-trainable params: </span><span style=\"color: #00af00; text-decoration-color: #00af00\">0</span> (0.00 B)\n",
       "</pre>\n"
      ],
      "text/plain": [
       "\u001b[1m Non-trainable params: \u001b[0m\u001b[38;5;34m0\u001b[0m (0.00 B)\n"
      ]
     },
     "metadata": {},
     "output_type": "display_data"
    },
    {
     "name": "stdout",
     "output_type": "stream",
     "text": [
      "None\n"
     ]
    }
   ],
   "source": [
    "from keras.models import Sequential\n",
    "from keras.layers import SimpleRNN, Dense\n",
    "\n",
    "model = Sequential()\n",
    "model.add(SimpleRNN(50, activation='relu', input_shape=(1, 1)))\n",
    "model.add(Dense(1))\n",
    "model.compile(optimizer='adam', loss='mse')\n",
    "print(model.summary())"
   ]
  },
  {
   "cell_type": "code",
   "execution_count": 5,
   "metadata": {
    "colab": {},
    "colab_type": "code",
    "id": "x4B4W3e5xl0g"
   },
   "outputs": [
    {
     "data": {
      "text/plain": [
       "<keras.src.callbacks.history.History at 0x27511b00250>"
      ]
     },
     "execution_count": 5,
     "metadata": {},
     "output_type": "execute_result"
    }
   ],
   "source": [
    "X = np.array(X)\n",
    "Y = np.array(Y)\n",
    "model.fit(X, Y, epochs=200, batch_size=1, validation_split=0.2, verbose = 0)"
   ]
  },
  {
   "cell_type": "markdown",
   "metadata": {
    "colab_type": "text",
    "id": "Rzk2C5dPyCac"
   },
   "source": [
    "## Make predictions\n",
    "\n",
    "Let's say we want to predict the output for an input of 30. The actual output should be 30 x 5 = 150. \n",
    "\n",
    "First, we need to convert our test data to the right shape i.e. 3D shape, as expected by RNN. "
   ]
  },
  {
   "cell_type": "code",
   "execution_count": 8,
   "metadata": {
    "colab": {},
    "colab_type": "code",
    "id": "Plw82Q__yCC7"
   },
   "outputs": [
    {
     "name": "stdout",
     "output_type": "stream",
     "text": [
      "[[138.41127]]\n"
     ]
    }
   ],
   "source": [
    "test_input = np.array([30])\n",
    "test_input = test_input.reshape((1, 1, 1))\n",
    "test_output = model.predict(test_input, verbose=0)\n",
    "print(test_output)"
   ]
  },
  {
   "cell_type": "markdown",
   "metadata": {
    "colab_type": "text",
    "id": "eNf699d93Hyz"
   },
   "source": [
    "# 2. One-to-One Sequence Problems with Multiple Features\n",
    "\n",
    "In the previous example, each input sample had one time-step, where each time-step had one feature. \n",
    "\n",
    "In this example the input time-steps have multiple features - multivariate time-series."
   ]
  },
  {
   "cell_type": "markdown",
   "metadata": {
    "colab_type": "text",
    "id": "rBxPbXBH3hsi"
   },
   "source": [
    "## Create data\n",
    "\n",
    "Create three lists: X1, X2, and Y. Each list has 25 elements, which means that that the total sample size is 25. Finally, Y contains the output."
   ]
  },
  {
   "cell_type": "code",
   "execution_count": 9,
   "metadata": {
    "colab": {},
    "colab_type": "code",
    "id": "qU3JSXN03hsm"
   },
   "outputs": [
    {
     "name": "stdout",
     "output_type": "stream",
     "text": [
      "[2, 4, 6, 8, 10, 12, 14, 16, 18, 20, 22, 24, 26, 28, 30, 32, 34, 36, 38, 40, 42, 44, 46, 48, 50]\n",
      "[3, 6, 9, 12, 15, 18, 21, 24, 27, 30, 33, 36, 39, 42, 45, 48, 51, 54, 57, 60, 63, 66, 69, 72, 75]\n",
      "[6, 24, 54, 96, 150, 216, 294, 384, 486, 600, 726, 864, 1014, 1176, 1350, 1536, 1734, 1944, 2166, 2400, 2646, 2904, 3174, 3456, 3750]\n"
     ]
    }
   ],
   "source": [
    "nums = 25\n",
    "\n",
    "X1 = list()\n",
    "X2 = list()\n",
    "X = list()\n",
    "Y = list()\n",
    "\n",
    "X1 = [(x+1)*2 for x in range(25)]\n",
    "X2 = [(x+1)*3 for x in range(25)]\n",
    "Y = [x1*x2 for x1,x2 in zip(X1,X2)]\n",
    "\n",
    "print(X1)\n",
    "print(X2)\n",
    "print(Y)"
   ]
  },
  {
   "cell_type": "markdown",
   "metadata": {
    "colab_type": "text",
    "id": "RyfYap9r4KOe"
   },
   "source": [
    "The input will consist of the combination of X1 and X2 lists, where each list will be represented as a column. \n",
    "\n",
    "Here the X variable contains our final feature set. You can see it contains two columns i.e. two features per input"
   ]
  },
  {
   "cell_type": "code",
   "execution_count": 10,
   "metadata": {
    "colab": {},
    "colab_type": "code",
    "id": "Y0uHx7mN3_nC"
   },
   "outputs": [
    {
     "name": "stdout",
     "output_type": "stream",
     "text": [
      "[[ 2  3]\n",
      " [ 4  6]\n",
      " [ 6  9]\n",
      " [ 8 12]\n",
      " [10 15]\n",
      " [12 18]\n",
      " [14 21]\n",
      " [16 24]\n",
      " [18 27]\n",
      " [20 30]\n",
      " [22 33]\n",
      " [24 36]\n",
      " [26 39]\n",
      " [28 42]\n",
      " [30 45]\n",
      " [32 48]\n",
      " [34 51]\n",
      " [36 54]\n",
      " [38 57]\n",
      " [40 60]\n",
      " [42 63]\n",
      " [44 66]\n",
      " [46 69]\n",
      " [48 72]\n",
      " [50 75]]\n"
     ]
    }
   ],
   "source": [
    "X = np.column_stack((X1, X2))\n",
    "print(X)"
   ]
  },
  {
   "cell_type": "markdown",
   "metadata": {
    "colab_type": "text",
    "id": "ZkUIye4D3hst"
   },
   "source": [
    "## Reshape Data\n",
    "The input to the RNN layer should be in 3D shape i.e. (samples, time-steps, features).\n",
    "- The samples are the number of samples in the input data. We have 10 samples in the input. \n",
    "- The time-steps is the number of time-steps per sample. We have 1 time-step. \n",
    "- Finally, features correspond to the number of features per time-step. We have one feature per time-step (univariate time series)\n",
    "\n",
    "**model.add(SimpleRNN(50, activation='relu', input_shape=(n_steps, n_features)))**"
   ]
  },
  {
   "cell_type": "code",
   "execution_count": 11,
   "metadata": {
    "colab": {},
    "colab_type": "code",
    "id": "Cs_iBN7L3hsu"
   },
   "outputs": [
    {
     "name": "stdout",
     "output_type": "stream",
     "text": [
      "[[[ 2  3]]\n",
      "\n",
      " [[ 4  6]]\n",
      "\n",
      " [[ 6  9]]\n",
      "\n",
      " [[ 8 12]]\n",
      "\n",
      " [[10 15]]\n",
      "\n",
      " [[12 18]]\n",
      "\n",
      " [[14 21]]\n",
      "\n",
      " [[16 24]]\n",
      "\n",
      " [[18 27]]\n",
      "\n",
      " [[20 30]]\n",
      "\n",
      " [[22 33]]\n",
      "\n",
      " [[24 36]]\n",
      "\n",
      " [[26 39]]\n",
      "\n",
      " [[28 42]]\n",
      "\n",
      " [[30 45]]\n",
      "\n",
      " [[32 48]]\n",
      "\n",
      " [[34 51]]\n",
      "\n",
      " [[36 54]]\n",
      "\n",
      " [[38 57]]\n",
      "\n",
      " [[40 60]]\n",
      "\n",
      " [[42 63]]\n",
      "\n",
      " [[44 66]]\n",
      "\n",
      " [[46 69]]\n",
      "\n",
      " [[48 72]]\n",
      "\n",
      " [[50 75]]]\n"
     ]
    }
   ],
   "source": [
    "X = np.array(X).reshape(25, 1, 2)\n",
    "print(X)"
   ]
  },
  {
   "cell_type": "markdown",
   "metadata": {
    "colab_type": "text",
    "id": "MtXI9i3T3hs0"
   },
   "source": [
    "## Create the model\n",
    "\n",
    "The RNN layer contains 80 neurons. We have two dense layers where first layer contains 10 neurons and the second dense layer, which also acts as the output layer, contains 1 neuron. "
   ]
  },
  {
   "cell_type": "code",
   "execution_count": 12,
   "metadata": {
    "colab": {},
    "colab_type": "code",
    "id": "rzE7IEgR3hs1"
   },
   "outputs": [
    {
     "data": {
      "text/html": [
       "<pre style=\"white-space:pre;overflow-x:auto;line-height:normal;font-family:Menlo,'DejaVu Sans Mono',consolas,'Courier New',monospace\"><span style=\"font-weight: bold\">Model: \"sequential_1\"</span>\n",
       "</pre>\n"
      ],
      "text/plain": [
       "\u001b[1mModel: \"sequential_1\"\u001b[0m\n"
      ]
     },
     "metadata": {},
     "output_type": "display_data"
    },
    {
     "data": {
      "text/html": [
       "<pre style=\"white-space:pre;overflow-x:auto;line-height:normal;font-family:Menlo,'DejaVu Sans Mono',consolas,'Courier New',monospace\">┏━━━━━━━━━━━━━━━━━━━━━━━━━━━━━━━━━┳━━━━━━━━━━━━━━━━━━━━━━━━┳━━━━━━━━━━━━━━━┓\n",
       "┃<span style=\"font-weight: bold\"> Layer (type)                    </span>┃<span style=\"font-weight: bold\"> Output Shape           </span>┃<span style=\"font-weight: bold\">       Param # </span>┃\n",
       "┡━━━━━━━━━━━━━━━━━━━━━━━━━━━━━━━━━╇━━━━━━━━━━━━━━━━━━━━━━━━╇━━━━━━━━━━━━━━━┩\n",
       "│ simple_rnn_1 (<span style=\"color: #0087ff; text-decoration-color: #0087ff\">SimpleRNN</span>)        │ (<span style=\"color: #00d7ff; text-decoration-color: #00d7ff\">None</span>, <span style=\"color: #00af00; text-decoration-color: #00af00\">80</span>)             │         <span style=\"color: #00af00; text-decoration-color: #00af00\">6,640</span> │\n",
       "├─────────────────────────────────┼────────────────────────┼───────────────┤\n",
       "│ dense_1 (<span style=\"color: #0087ff; text-decoration-color: #0087ff\">Dense</span>)                 │ (<span style=\"color: #00d7ff; text-decoration-color: #00d7ff\">None</span>, <span style=\"color: #00af00; text-decoration-color: #00af00\">1</span>)              │            <span style=\"color: #00af00; text-decoration-color: #00af00\">81</span> │\n",
       "└─────────────────────────────────┴────────────────────────┴───────────────┘\n",
       "</pre>\n"
      ],
      "text/plain": [
       "┏━━━━━━━━━━━━━━━━━━━━━━━━━━━━━━━━━┳━━━━━━━━━━━━━━━━━━━━━━━━┳━━━━━━━━━━━━━━━┓\n",
       "┃\u001b[1m \u001b[0m\u001b[1mLayer (type)                   \u001b[0m\u001b[1m \u001b[0m┃\u001b[1m \u001b[0m\u001b[1mOutput Shape          \u001b[0m\u001b[1m \u001b[0m┃\u001b[1m \u001b[0m\u001b[1m      Param #\u001b[0m\u001b[1m \u001b[0m┃\n",
       "┡━━━━━━━━━━━━━━━━━━━━━━━━━━━━━━━━━╇━━━━━━━━━━━━━━━━━━━━━━━━╇━━━━━━━━━━━━━━━┩\n",
       "│ simple_rnn_1 (\u001b[38;5;33mSimpleRNN\u001b[0m)        │ (\u001b[38;5;45mNone\u001b[0m, \u001b[38;5;34m80\u001b[0m)             │         \u001b[38;5;34m6,640\u001b[0m │\n",
       "├─────────────────────────────────┼────────────────────────┼───────────────┤\n",
       "│ dense_1 (\u001b[38;5;33mDense\u001b[0m)                 │ (\u001b[38;5;45mNone\u001b[0m, \u001b[38;5;34m1\u001b[0m)              │            \u001b[38;5;34m81\u001b[0m │\n",
       "└─────────────────────────────────┴────────────────────────┴───────────────┘\n"
      ]
     },
     "metadata": {},
     "output_type": "display_data"
    },
    {
     "data": {
      "text/html": [
       "<pre style=\"white-space:pre;overflow-x:auto;line-height:normal;font-family:Menlo,'DejaVu Sans Mono',consolas,'Courier New',monospace\"><span style=\"font-weight: bold\"> Total params: </span><span style=\"color: #00af00; text-decoration-color: #00af00\">6,721</span> (26.25 KB)\n",
       "</pre>\n"
      ],
      "text/plain": [
       "\u001b[1m Total params: \u001b[0m\u001b[38;5;34m6,721\u001b[0m (26.25 KB)\n"
      ]
     },
     "metadata": {},
     "output_type": "display_data"
    },
    {
     "data": {
      "text/html": [
       "<pre style=\"white-space:pre;overflow-x:auto;line-height:normal;font-family:Menlo,'DejaVu Sans Mono',consolas,'Courier New',monospace\"><span style=\"font-weight: bold\"> Trainable params: </span><span style=\"color: #00af00; text-decoration-color: #00af00\">6,721</span> (26.25 KB)\n",
       "</pre>\n"
      ],
      "text/plain": [
       "\u001b[1m Trainable params: \u001b[0m\u001b[38;5;34m6,721\u001b[0m (26.25 KB)\n"
      ]
     },
     "metadata": {},
     "output_type": "display_data"
    },
    {
     "data": {
      "text/html": [
       "<pre style=\"white-space:pre;overflow-x:auto;line-height:normal;font-family:Menlo,'DejaVu Sans Mono',consolas,'Courier New',monospace\"><span style=\"font-weight: bold\"> Non-trainable params: </span><span style=\"color: #00af00; text-decoration-color: #00af00\">0</span> (0.00 B)\n",
       "</pre>\n"
      ],
      "text/plain": [
       "\u001b[1m Non-trainable params: \u001b[0m\u001b[38;5;34m0\u001b[0m (0.00 B)\n"
      ]
     },
     "metadata": {},
     "output_type": "display_data"
    },
    {
     "name": "stdout",
     "output_type": "stream",
     "text": [
      "None\n"
     ]
    }
   ],
   "source": [
    "model = Sequential()\n",
    "model.add(SimpleRNN(80, activation='relu', input_shape=(1, 2)))\n",
    "model.add(Dense(1))\n",
    "model.compile(optimizer='adam', loss='mse')\n",
    "print(model.summary())"
   ]
  },
  {
   "cell_type": "code",
   "execution_count": 13,
   "metadata": {
    "colab": {},
    "colab_type": "code",
    "id": "6VUD-UbM3hs6"
   },
   "outputs": [
    {
     "data": {
      "text/plain": [
       "<keras.src.callbacks.history.History at 0x27517023ad0>"
      ]
     },
     "execution_count": 13,
     "metadata": {},
     "output_type": "execute_result"
    }
   ],
   "source": [
    "Y = np.array(Y).reshape((len(Y), 1))\n",
    "model.fit(X, Y, epochs=200, batch_size=1, verbose = 0)"
   ]
  },
  {
   "cell_type": "markdown",
   "metadata": {
    "colab_type": "text",
    "id": "GZL2NrSr3hs9"
   },
   "source": [
    "## Make predictions\n",
    "\n",
    "The data point will have two features i.e. (55,80) the actual output should be 55 x 80 = 4400. Let's see what our algorithm predicts"
   ]
  },
  {
   "cell_type": "code",
   "execution_count": 13,
   "metadata": {
    "colab": {},
    "colab_type": "code",
    "id": "OgcllexW3hs-"
   },
   "outputs": [
    {
     "name": "stdout",
     "output_type": "stream",
     "text": [
      "[[3099.9922]]\n"
     ]
    }
   ],
   "source": [
    "test_input = np.array([55,80])\n",
    "test_input = test_input.reshape((1, 1, 2))\n",
    "test_output = model.predict(test_input, verbose=0)\n",
    "print(test_output)"
   ]
  },
  {
   "cell_type": "markdown",
   "metadata": {
    "colab_type": "text",
    "id": "ORy7IHeHvGwB"
   },
   "source": [
    "# 3. Many to One - Univariate (Single Feature)\n",
    "\n",
    "Each input sample has more than one time-step, however the output consists of a single element. Each time-step in the input can have one or more features. \n",
    "\n",
    "We will start with many-to-one sequence problems having one feature, and then we will see how to solve many-to-one problems where input time-steps have multiple features."
   ]
  },
  {
   "cell_type": "markdown",
   "metadata": {
    "colab_type": "text",
    "id": "2xIM5V7Rh4JZ"
   },
   "source": [
    "## Data preparation\n",
    "\n",
    "The following sequence is given: \n",
    "\n",
    "[10, 20, 30, 40, 50, 60, 70, 80, 90]\n",
    "\n",
    "The goal is to divide the sequence into multiple input/output patterns called samples. \n",
    "\n",
    "Where N time steps are used as input and one time step is used as output.\n",
    "\n",
    "If N = 3, then\n",
    "\n",
    "      X ------  y\n",
    "\n",
    "10, 20, 30 --- 40\n",
    "\n",
    "20, 30, 40 --- 50\n",
    "\n",
    "30, 40, 50 --- 60"
   ]
  },
  {
   "cell_type": "markdown",
   "metadata": {
    "colab_type": "text",
    "id": "awgpvBB7i5bH"
   },
   "source": [
    "## Data split function\n",
    "The split_sequence() function implements the example above. It  will split a given univariate sequence into multiple samples where each sample has a specified number of time steps and the output is a single time step."
   ]
  },
  {
   "cell_type": "code",
   "execution_count": 15,
   "metadata": {
    "colab": {},
    "colab_type": "code",
    "id": "Por82or3h5mT"
   },
   "outputs": [],
   "source": [
    "# split a univariate sequence into samples\n",
    "def split_sequence(sequence, n_steps):\n",
    "\tX, y = list(), list()\n",
    "\tfor i in range(len(sequence)):\n",
    "\t\t# find the end of this pattern\n",
    "\t\tend_ix = i + n_steps\n",
    "\t\t# check if we are beyond the sequence\n",
    "\t\tif end_ix > len(sequence)-1:\n",
    "\t\t\tbreak\n",
    "\t\t# gather input and output parts of the pattern\n",
    "\t\tseq_x, seq_y = sequence[i:end_ix], sequence[end_ix]\n",
    "\t\tX.append(seq_x)\n",
    "\t\ty.append(seq_y)\n",
    "\treturn np.array(X), np.array(y)"
   ]
  },
  {
   "cell_type": "markdown",
   "metadata": {
    "colab_type": "text",
    "id": "HOvv1oOdFRIv"
   },
   "source": [
    "## Data preparation"
   ]
  },
  {
   "cell_type": "code",
   "execution_count": 16,
   "metadata": {
    "colab": {},
    "colab_type": "code",
    "id": "4mHHz1yMjTY8"
   },
   "outputs": [
    {
     "name": "stdout",
     "output_type": "stream",
     "text": [
      "[10 20 30] 40\n",
      "[20 30 40] 50\n",
      "[30 40 50] 60\n",
      "[40 50 60] 70\n",
      "[50 60 70] 80\n",
      "[60 70 80] 90\n"
     ]
    }
   ],
   "source": [
    "import numpy as np\n",
    "\n",
    "# define input sequence\n",
    "seq = [10, 20, 30, 40, 50, 60, 70, 80, 90]\n",
    "# choose a number of time steps\n",
    "n_steps = 3\n",
    "# split into samples\n",
    "X, y = split_sequence(seq, n_steps)\n",
    "# summarize the data\n",
    "for i in range(len(X)):\n",
    "\tprint(X[i], y[i])"
   ]
  },
  {
   "cell_type": "markdown",
   "metadata": {
    "colab_type": "text",
    "id": "oNPoPkj_HB8h"
   },
   "source": [
    "## Reshape Data\n",
    "\n",
    "The model expects input shape for each sample in terms of the number of time steps and the number of features\n",
    "\n",
    "**model.add(SimpleRNN(50, activation='relu', input_shape=(n_steps, n_features)))**\n",
    "\n",
    "We are working with a univariate series, so the number of features is one, for one variable."
   ]
  },
  {
   "cell_type": "code",
   "execution_count": 17,
   "metadata": {
    "colab": {},
    "colab_type": "code",
    "id": "uno8KbfokoLj"
   },
   "outputs": [],
   "source": [
    "# reshape from [samples, timesteps] into [samples, timesteps, features]\n",
    "n_features = 1\n",
    "X = X.reshape((X.shape[0], X.shape[1], n_features))"
   ]
  },
  {
   "cell_type": "markdown",
   "metadata": {
    "colab_type": "text",
    "id": "6QG4Bbg1j2jm"
   },
   "source": [
    "## Train the Vanilla RNN model\n",
    "\n",
    "A Vanilla RNN is a model that has a single hidden layer of RNN units, and an output layer used to make a prediction.\n",
    "\n",
    "In this case, we define a model with 10 RNN units in the hidden layer and an output layer that predicts a single numerical value.\n",
    "\n"
   ]
  },
  {
   "cell_type": "code",
   "execution_count": 18,
   "metadata": {
    "colab": {},
    "colab_type": "code",
    "id": "P4ltdguxjbL_"
   },
   "outputs": [],
   "source": [
    "# define model\n",
    "model = Sequential()\n",
    "model.add(SimpleRNN(50, activation='relu', input_shape=(n_steps, n_features)))\n",
    "model.add(Dense(1))\n",
    "model.compile(optimizer='adam', loss='mse')"
   ]
  },
  {
   "cell_type": "code",
   "execution_count": 19,
   "metadata": {
    "colab": {},
    "colab_type": "code",
    "id": "VrU9W3g7kdPZ"
   },
   "outputs": [
    {
     "data": {
      "text/plain": [
       "<keras.src.callbacks.history.History at 0x2751707a150>"
      ]
     },
     "execution_count": 19,
     "metadata": {},
     "output_type": "execute_result"
    }
   ],
   "source": [
    "# fit model\n",
    "model.fit(X, y, epochs=200, verbose=0)"
   ]
  },
  {
   "cell_type": "markdown",
   "metadata": {
    "colab_type": "text",
    "id": "6Qyvhm0zH_Zy"
   },
   "source": [
    "## Make a prediciton"
   ]
  },
  {
   "cell_type": "code",
   "execution_count": 20,
   "metadata": {
    "colab": {},
    "colab_type": "code",
    "id": "2q2cdP9xkvqe"
   },
   "outputs": [
    {
     "name": "stdout",
     "output_type": "stream",
     "text": [
      "[[108.21608]]\n"
     ]
    }
   ],
   "source": [
    "# demonstrate prediction\n",
    "x_input = np.array([70, 80, 90])\n",
    "x_input = x_input.reshape((1, n_steps, n_features))\n",
    "prediction = model.predict(x_input, verbose=0)\n",
    "print(prediction)"
   ]
  },
  {
   "cell_type": "markdown",
   "metadata": {
    "colab_type": "text",
    "id": "hh6SkNW6NT1d"
   },
   "source": [
    "# HOMEWORK\n",
    "\n",
    "Train a Many to One RNN networks.\n",
    "Univariate time series, with 50 samples, and 4 time steps.\n",
    "\n",
    "X = [5, 10, 15, 20, 25 ... 250] (before data preparation)\n",
    "\n",
    "Y = [25, 30, 35, ... 250]\n",
    "\n",
    "- **Tip**: create X, then use the data split function from above to create the new X and Y.\n",
    "- Tip2: [(x+1)*5 for x in range(50)]\n",
    "\n",
    "Use SimpleRNN layer with 100 units.\n",
    "\n",
    "Train 2 models:\n",
    "- 1st with activation function = RELU\n",
    "- 2nd with activation function = tanh\n",
    "\n",
    "Evaluate the models on test example:\n",
    "- [1, 2, 3, 4]\n",
    "- [300, 305, 310, 315]"
   ]
  },
  {
   "cell_type": "code",
   "execution_count": 22,
   "metadata": {},
   "outputs": [],
   "source": [
    "# split a univariate sequence into samples\n",
    "def split_sequence(sequence, n_steps):\n",
    "\tX, y = list(), list()\n",
    "\tfor i in range(len(sequence)):\n",
    "\t\t# find the end of this pattern\n",
    "\t\tend_ix = i + n_steps\n",
    "\t\t# check if we are beyond the sequence\n",
    "\t\tif end_ix > len(sequence)-1:\n",
    "\t\t\tbreak\n",
    "\t\t# gather input and output parts of the pattern\n",
    "\t\tseq_x, seq_y = sequence[i:end_ix], sequence[end_ix]\n",
    "\t\tX.append(seq_x)\n",
    "\t\ty.append(seq_y)\n",
    "\treturn np.array(X), np.array(y)"
   ]
  },
  {
   "cell_type": "code",
   "execution_count": 23,
   "metadata": {
    "colab": {},
    "colab_type": "code",
    "id": "0YZbiVeWNs8_"
   },
   "outputs": [
    {
     "name": "stdout",
     "output_type": "stream",
     "text": [
      "[[[  5]\n",
      "  [ 10]\n",
      "  [ 15]\n",
      "  [ 20]]\n",
      "\n",
      " [[ 10]\n",
      "  [ 15]\n",
      "  [ 20]\n",
      "  [ 25]]\n",
      "\n",
      " [[ 15]\n",
      "  [ 20]\n",
      "  [ 25]\n",
      "  [ 30]]\n",
      "\n",
      " [[ 20]\n",
      "  [ 25]\n",
      "  [ 30]\n",
      "  [ 35]]\n",
      "\n",
      " [[ 25]\n",
      "  [ 30]\n",
      "  [ 35]\n",
      "  [ 40]]\n",
      "\n",
      " [[ 30]\n",
      "  [ 35]\n",
      "  [ 40]\n",
      "  [ 45]]\n",
      "\n",
      " [[ 35]\n",
      "  [ 40]\n",
      "  [ 45]\n",
      "  [ 50]]\n",
      "\n",
      " [[ 40]\n",
      "  [ 45]\n",
      "  [ 50]\n",
      "  [ 55]]\n",
      "\n",
      " [[ 45]\n",
      "  [ 50]\n",
      "  [ 55]\n",
      "  [ 60]]\n",
      "\n",
      " [[ 50]\n",
      "  [ 55]\n",
      "  [ 60]\n",
      "  [ 65]]\n",
      "\n",
      " [[ 55]\n",
      "  [ 60]\n",
      "  [ 65]\n",
      "  [ 70]]\n",
      "\n",
      " [[ 60]\n",
      "  [ 65]\n",
      "  [ 70]\n",
      "  [ 75]]\n",
      "\n",
      " [[ 65]\n",
      "  [ 70]\n",
      "  [ 75]\n",
      "  [ 80]]\n",
      "\n",
      " [[ 70]\n",
      "  [ 75]\n",
      "  [ 80]\n",
      "  [ 85]]\n",
      "\n",
      " [[ 75]\n",
      "  [ 80]\n",
      "  [ 85]\n",
      "  [ 90]]\n",
      "\n",
      " [[ 80]\n",
      "  [ 85]\n",
      "  [ 90]\n",
      "  [ 95]]\n",
      "\n",
      " [[ 85]\n",
      "  [ 90]\n",
      "  [ 95]\n",
      "  [100]]\n",
      "\n",
      " [[ 90]\n",
      "  [ 95]\n",
      "  [100]\n",
      "  [105]]\n",
      "\n",
      " [[ 95]\n",
      "  [100]\n",
      "  [105]\n",
      "  [110]]\n",
      "\n",
      " [[100]\n",
      "  [105]\n",
      "  [110]\n",
      "  [115]]\n",
      "\n",
      " [[105]\n",
      "  [110]\n",
      "  [115]\n",
      "  [120]]\n",
      "\n",
      " [[110]\n",
      "  [115]\n",
      "  [120]\n",
      "  [125]]\n",
      "\n",
      " [[115]\n",
      "  [120]\n",
      "  [125]\n",
      "  [130]]\n",
      "\n",
      " [[120]\n",
      "  [125]\n",
      "  [130]\n",
      "  [135]]\n",
      "\n",
      " [[125]\n",
      "  [130]\n",
      "  [135]\n",
      "  [140]]\n",
      "\n",
      " [[130]\n",
      "  [135]\n",
      "  [140]\n",
      "  [145]]\n",
      "\n",
      " [[135]\n",
      "  [140]\n",
      "  [145]\n",
      "  [150]]\n",
      "\n",
      " [[140]\n",
      "  [145]\n",
      "  [150]\n",
      "  [155]]\n",
      "\n",
      " [[145]\n",
      "  [150]\n",
      "  [155]\n",
      "  [160]]\n",
      "\n",
      " [[150]\n",
      "  [155]\n",
      "  [160]\n",
      "  [165]]\n",
      "\n",
      " [[155]\n",
      "  [160]\n",
      "  [165]\n",
      "  [170]]\n",
      "\n",
      " [[160]\n",
      "  [165]\n",
      "  [170]\n",
      "  [175]]\n",
      "\n",
      " [[165]\n",
      "  [170]\n",
      "  [175]\n",
      "  [180]]\n",
      "\n",
      " [[170]\n",
      "  [175]\n",
      "  [180]\n",
      "  [185]]\n",
      "\n",
      " [[175]\n",
      "  [180]\n",
      "  [185]\n",
      "  [190]]\n",
      "\n",
      " [[180]\n",
      "  [185]\n",
      "  [190]\n",
      "  [195]]\n",
      "\n",
      " [[185]\n",
      "  [190]\n",
      "  [195]\n",
      "  [200]]\n",
      "\n",
      " [[190]\n",
      "  [195]\n",
      "  [200]\n",
      "  [205]]\n",
      "\n",
      " [[195]\n",
      "  [200]\n",
      "  [205]\n",
      "  [210]]\n",
      "\n",
      " [[200]\n",
      "  [205]\n",
      "  [210]\n",
      "  [215]]\n",
      "\n",
      " [[205]\n",
      "  [210]\n",
      "  [215]\n",
      "  [220]]\n",
      "\n",
      " [[210]\n",
      "  [215]\n",
      "  [220]\n",
      "  [225]]\n",
      "\n",
      " [[215]\n",
      "  [220]\n",
      "  [225]\n",
      "  [230]]\n",
      "\n",
      " [[220]\n",
      "  [225]\n",
      "  [230]\n",
      "  [235]]\n",
      "\n",
      " [[225]\n",
      "  [230]\n",
      "  [235]\n",
      "  [240]]\n",
      "\n",
      " [[230]\n",
      "  [235]\n",
      "  [240]\n",
      "  [245]]]\n",
      "[ 25  30  35  40  45  50  55  60  65  70  75  80  85  90  95 100 105 110\n",
      " 115 120 125 130 135 140 145 150 155 160 165 170 175 180 185 190 195 200\n",
      " 205 210 215 220 225 230 235 240 245 250]\n"
     ]
    }
   ],
   "source": [
    "# Create the data\n",
    "X = [(x+1)*5 for x in range(50)]\n",
    "Y = [(x+1)*5 + 20 for x in range(50)]\n",
    "\n",
    "# Number of time steps\n",
    "n_steps = 4\n",
    "\n",
    "# Split the data into samples\n",
    "X, Y = split_sequence(X, n_steps)\n",
    "\n",
    "# Reshape the data to the required shape\n",
    "n_features = 1\n",
    "X = X.reshape((X.shape[0], X.shape[1], n_features))\n",
    "\n",
    "print(X)\n",
    "print(Y)"
   ]
  },
  {
   "cell_type": "code",
   "execution_count": 26,
   "metadata": {},
   "outputs": [
    {
     "name": "stderr",
     "output_type": "stream",
     "text": [
      "d:\\Programs\\Anaconda\\envs\\IA\\Lib\\site-packages\\keras\\src\\layers\\rnn\\rnn.py:204: UserWarning: Do not pass an `input_shape`/`input_dim` argument to a layer. When using Sequential models, prefer using an `Input(shape)` object as the first layer in the model instead.\n",
      "  super().__init__(**kwargs)\n"
     ]
    },
    {
     "data": {
      "text/html": [
       "<pre style=\"white-space:pre;overflow-x:auto;line-height:normal;font-family:Menlo,'DejaVu Sans Mono',consolas,'Courier New',monospace\"><span style=\"font-weight: bold\">Model: \"sequential_4\"</span>\n",
       "</pre>\n"
      ],
      "text/plain": [
       "\u001b[1mModel: \"sequential_4\"\u001b[0m\n"
      ]
     },
     "metadata": {},
     "output_type": "display_data"
    },
    {
     "data": {
      "text/html": [
       "<pre style=\"white-space:pre;overflow-x:auto;line-height:normal;font-family:Menlo,'DejaVu Sans Mono',consolas,'Courier New',monospace\">┏━━━━━━━━━━━━━━━━━━━━━━━━━━━━━━━━━┳━━━━━━━━━━━━━━━━━━━━━━━━┳━━━━━━━━━━━━━━━┓\n",
       "┃<span style=\"font-weight: bold\"> Layer (type)                    </span>┃<span style=\"font-weight: bold\"> Output Shape           </span>┃<span style=\"font-weight: bold\">       Param # </span>┃\n",
       "┡━━━━━━━━━━━━━━━━━━━━━━━━━━━━━━━━━╇━━━━━━━━━━━━━━━━━━━━━━━━╇━━━━━━━━━━━━━━━┩\n",
       "│ simple_rnn_4 (<span style=\"color: #0087ff; text-decoration-color: #0087ff\">SimpleRNN</span>)        │ (<span style=\"color: #00d7ff; text-decoration-color: #00d7ff\">None</span>, <span style=\"color: #00af00; text-decoration-color: #00af00\">100</span>)            │        <span style=\"color: #00af00; text-decoration-color: #00af00\">10,200</span> │\n",
       "├─────────────────────────────────┼────────────────────────┼───────────────┤\n",
       "│ dense_4 (<span style=\"color: #0087ff; text-decoration-color: #0087ff\">Dense</span>)                 │ (<span style=\"color: #00d7ff; text-decoration-color: #00d7ff\">None</span>, <span style=\"color: #00af00; text-decoration-color: #00af00\">1</span>)              │           <span style=\"color: #00af00; text-decoration-color: #00af00\">101</span> │\n",
       "└─────────────────────────────────┴────────────────────────┴───────────────┘\n",
       "</pre>\n"
      ],
      "text/plain": [
       "┏━━━━━━━━━━━━━━━━━━━━━━━━━━━━━━━━━┳━━━━━━━━━━━━━━━━━━━━━━━━┳━━━━━━━━━━━━━━━┓\n",
       "┃\u001b[1m \u001b[0m\u001b[1mLayer (type)                   \u001b[0m\u001b[1m \u001b[0m┃\u001b[1m \u001b[0m\u001b[1mOutput Shape          \u001b[0m\u001b[1m \u001b[0m┃\u001b[1m \u001b[0m\u001b[1m      Param #\u001b[0m\u001b[1m \u001b[0m┃\n",
       "┡━━━━━━━━━━━━━━━━━━━━━━━━━━━━━━━━━╇━━━━━━━━━━━━━━━━━━━━━━━━╇━━━━━━━━━━━━━━━┩\n",
       "│ simple_rnn_4 (\u001b[38;5;33mSimpleRNN\u001b[0m)        │ (\u001b[38;5;45mNone\u001b[0m, \u001b[38;5;34m100\u001b[0m)            │        \u001b[38;5;34m10,200\u001b[0m │\n",
       "├─────────────────────────────────┼────────────────────────┼───────────────┤\n",
       "│ dense_4 (\u001b[38;5;33mDense\u001b[0m)                 │ (\u001b[38;5;45mNone\u001b[0m, \u001b[38;5;34m1\u001b[0m)              │           \u001b[38;5;34m101\u001b[0m │\n",
       "└─────────────────────────────────┴────────────────────────┴───────────────┘\n"
      ]
     },
     "metadata": {},
     "output_type": "display_data"
    },
    {
     "data": {
      "text/html": [
       "<pre style=\"white-space:pre;overflow-x:auto;line-height:normal;font-family:Menlo,'DejaVu Sans Mono',consolas,'Courier New',monospace\"><span style=\"font-weight: bold\"> Total params: </span><span style=\"color: #00af00; text-decoration-color: #00af00\">10,301</span> (40.24 KB)\n",
       "</pre>\n"
      ],
      "text/plain": [
       "\u001b[1m Total params: \u001b[0m\u001b[38;5;34m10,301\u001b[0m (40.24 KB)\n"
      ]
     },
     "metadata": {},
     "output_type": "display_data"
    },
    {
     "data": {
      "text/html": [
       "<pre style=\"white-space:pre;overflow-x:auto;line-height:normal;font-family:Menlo,'DejaVu Sans Mono',consolas,'Courier New',monospace\"><span style=\"font-weight: bold\"> Trainable params: </span><span style=\"color: #00af00; text-decoration-color: #00af00\">10,301</span> (40.24 KB)\n",
       "</pre>\n"
      ],
      "text/plain": [
       "\u001b[1m Trainable params: \u001b[0m\u001b[38;5;34m10,301\u001b[0m (40.24 KB)\n"
      ]
     },
     "metadata": {},
     "output_type": "display_data"
    },
    {
     "data": {
      "text/html": [
       "<pre style=\"white-space:pre;overflow-x:auto;line-height:normal;font-family:Menlo,'DejaVu Sans Mono',consolas,'Courier New',monospace\"><span style=\"font-weight: bold\"> Non-trainable params: </span><span style=\"color: #00af00; text-decoration-color: #00af00\">0</span> (0.00 B)\n",
       "</pre>\n"
      ],
      "text/plain": [
       "\u001b[1m Non-trainable params: \u001b[0m\u001b[38;5;34m0\u001b[0m (0.00 B)\n"
      ]
     },
     "metadata": {},
     "output_type": "display_data"
    },
    {
     "name": "stdout",
     "output_type": "stream",
     "text": [
      "None\n"
     ]
    }
   ],
   "source": [
    "# Define the first model with relu activation function\n",
    "model_relu = Sequential()\n",
    "model_relu.add(SimpleRNN(100, activation='relu', input_shape=(n_steps, n_features)))\n",
    "model_relu.add(Dense(1))\n",
    "model_relu.compile(optimizer='adam', loss='mse')\n",
    "print(model_relu.summary())"
   ]
  },
  {
   "cell_type": "code",
   "execution_count": 27,
   "metadata": {},
   "outputs": [
    {
     "data": {
      "text/plain": [
       "<keras.src.callbacks.history.History at 0x27519aac9d0>"
      ]
     },
     "execution_count": 27,
     "metadata": {},
     "output_type": "execute_result"
    }
   ],
   "source": [
    "# Train the first model\n",
    "model_relu.fit(X, Y, epochs=200, verbose=0)"
   ]
  },
  {
   "cell_type": "code",
   "execution_count": 33,
   "metadata": {},
   "outputs": [
    {
     "name": "stdout",
     "output_type": "stream",
     "text": [
      "Prediction for [1, 2, 3, 4]: [[4.15465]]\n"
     ]
    }
   ],
   "source": [
    "# Test example 1\n",
    "test_input_relu = np.array([1, 2, 3, 4])\n",
    "test_input_relu = test_input_relu.reshape((1, n_steps, n_features))\n",
    "prediction_relu = model_relu.predict(test_input_relu, verbose=0)\n",
    "print(f\"Prediction for [1, 2, 3, 4]: {prediction_relu}\")"
   ]
  },
  {
   "cell_type": "code",
   "execution_count": 34,
   "metadata": {},
   "outputs": [
    {
     "name": "stdout",
     "output_type": "stream",
     "text": [
      "Prediction for [300, 305, 310, 315]: [[327.4006]]\n"
     ]
    }
   ],
   "source": [
    "# Test example 2\n",
    "test_input_relu2 = np.array([300, 305, 310, 315])\n",
    "test_input_relu2 = test_input_relu2.reshape((1, n_steps, n_features))\n",
    "prediction_relu2 = model_relu.predict(test_input_relu2, verbose=0)\n",
    "print(f\"Prediction for [300, 305, 310, 315]: {prediction_relu2}\")"
   ]
  },
  {
   "cell_type": "code",
   "execution_count": 35,
   "metadata": {},
   "outputs": [
    {
     "name": "stderr",
     "output_type": "stream",
     "text": [
      "d:\\Programs\\Anaconda\\envs\\IA\\Lib\\site-packages\\keras\\src\\layers\\rnn\\rnn.py:204: UserWarning: Do not pass an `input_shape`/`input_dim` argument to a layer. When using Sequential models, prefer using an `Input(shape)` object as the first layer in the model instead.\n",
      "  super().__init__(**kwargs)\n"
     ]
    },
    {
     "data": {
      "text/html": [
       "<pre style=\"white-space:pre;overflow-x:auto;line-height:normal;font-family:Menlo,'DejaVu Sans Mono',consolas,'Courier New',monospace\"><span style=\"font-weight: bold\">Model: \"sequential_5\"</span>\n",
       "</pre>\n"
      ],
      "text/plain": [
       "\u001b[1mModel: \"sequential_5\"\u001b[0m\n"
      ]
     },
     "metadata": {},
     "output_type": "display_data"
    },
    {
     "data": {
      "text/html": [
       "<pre style=\"white-space:pre;overflow-x:auto;line-height:normal;font-family:Menlo,'DejaVu Sans Mono',consolas,'Courier New',monospace\">┏━━━━━━━━━━━━━━━━━━━━━━━━━━━━━━━━━┳━━━━━━━━━━━━━━━━━━━━━━━━┳━━━━━━━━━━━━━━━┓\n",
       "┃<span style=\"font-weight: bold\"> Layer (type)                    </span>┃<span style=\"font-weight: bold\"> Output Shape           </span>┃<span style=\"font-weight: bold\">       Param # </span>┃\n",
       "┡━━━━━━━━━━━━━━━━━━━━━━━━━━━━━━━━━╇━━━━━━━━━━━━━━━━━━━━━━━━╇━━━━━━━━━━━━━━━┩\n",
       "│ simple_rnn_5 (<span style=\"color: #0087ff; text-decoration-color: #0087ff\">SimpleRNN</span>)        │ (<span style=\"color: #00d7ff; text-decoration-color: #00d7ff\">None</span>, <span style=\"color: #00af00; text-decoration-color: #00af00\">100</span>)            │        <span style=\"color: #00af00; text-decoration-color: #00af00\">10,200</span> │\n",
       "├─────────────────────────────────┼────────────────────────┼───────────────┤\n",
       "│ dense_5 (<span style=\"color: #0087ff; text-decoration-color: #0087ff\">Dense</span>)                 │ (<span style=\"color: #00d7ff; text-decoration-color: #00d7ff\">None</span>, <span style=\"color: #00af00; text-decoration-color: #00af00\">1</span>)              │           <span style=\"color: #00af00; text-decoration-color: #00af00\">101</span> │\n",
       "└─────────────────────────────────┴────────────────────────┴───────────────┘\n",
       "</pre>\n"
      ],
      "text/plain": [
       "┏━━━━━━━━━━━━━━━━━━━━━━━━━━━━━━━━━┳━━━━━━━━━━━━━━━━━━━━━━━━┳━━━━━━━━━━━━━━━┓\n",
       "┃\u001b[1m \u001b[0m\u001b[1mLayer (type)                   \u001b[0m\u001b[1m \u001b[0m┃\u001b[1m \u001b[0m\u001b[1mOutput Shape          \u001b[0m\u001b[1m \u001b[0m┃\u001b[1m \u001b[0m\u001b[1m      Param #\u001b[0m\u001b[1m \u001b[0m┃\n",
       "┡━━━━━━━━━━━━━━━━━━━━━━━━━━━━━━━━━╇━━━━━━━━━━━━━━━━━━━━━━━━╇━━━━━━━━━━━━━━━┩\n",
       "│ simple_rnn_5 (\u001b[38;5;33mSimpleRNN\u001b[0m)        │ (\u001b[38;5;45mNone\u001b[0m, \u001b[38;5;34m100\u001b[0m)            │        \u001b[38;5;34m10,200\u001b[0m │\n",
       "├─────────────────────────────────┼────────────────────────┼───────────────┤\n",
       "│ dense_5 (\u001b[38;5;33mDense\u001b[0m)                 │ (\u001b[38;5;45mNone\u001b[0m, \u001b[38;5;34m1\u001b[0m)              │           \u001b[38;5;34m101\u001b[0m │\n",
       "└─────────────────────────────────┴────────────────────────┴───────────────┘\n"
      ]
     },
     "metadata": {},
     "output_type": "display_data"
    },
    {
     "data": {
      "text/html": [
       "<pre style=\"white-space:pre;overflow-x:auto;line-height:normal;font-family:Menlo,'DejaVu Sans Mono',consolas,'Courier New',monospace\"><span style=\"font-weight: bold\"> Total params: </span><span style=\"color: #00af00; text-decoration-color: #00af00\">10,301</span> (40.24 KB)\n",
       "</pre>\n"
      ],
      "text/plain": [
       "\u001b[1m Total params: \u001b[0m\u001b[38;5;34m10,301\u001b[0m (40.24 KB)\n"
      ]
     },
     "metadata": {},
     "output_type": "display_data"
    },
    {
     "data": {
      "text/html": [
       "<pre style=\"white-space:pre;overflow-x:auto;line-height:normal;font-family:Menlo,'DejaVu Sans Mono',consolas,'Courier New',monospace\"><span style=\"font-weight: bold\"> Trainable params: </span><span style=\"color: #00af00; text-decoration-color: #00af00\">10,301</span> (40.24 KB)\n",
       "</pre>\n"
      ],
      "text/plain": [
       "\u001b[1m Trainable params: \u001b[0m\u001b[38;5;34m10,301\u001b[0m (40.24 KB)\n"
      ]
     },
     "metadata": {},
     "output_type": "display_data"
    },
    {
     "data": {
      "text/html": [
       "<pre style=\"white-space:pre;overflow-x:auto;line-height:normal;font-family:Menlo,'DejaVu Sans Mono',consolas,'Courier New',monospace\"><span style=\"font-weight: bold\"> Non-trainable params: </span><span style=\"color: #00af00; text-decoration-color: #00af00\">0</span> (0.00 B)\n",
       "</pre>\n"
      ],
      "text/plain": [
       "\u001b[1m Non-trainable params: \u001b[0m\u001b[38;5;34m0\u001b[0m (0.00 B)\n"
      ]
     },
     "metadata": {},
     "output_type": "display_data"
    },
    {
     "name": "stdout",
     "output_type": "stream",
     "text": [
      "None\n"
     ]
    }
   ],
   "source": [
    "# Define the second model with tanh activation function\n",
    "model_tanh = Sequential()\n",
    "model_tanh.add(SimpleRNN(100, activation='tanh', input_shape=(n_steps, n_features)))\n",
    "model_tanh.add(Dense(1))\n",
    "model_tanh.compile(optimizer='adam', loss='mse')\n",
    "print(model_tanh.summary())"
   ]
  },
  {
   "cell_type": "code",
   "execution_count": 36,
   "metadata": {},
   "outputs": [
    {
     "data": {
      "text/plain": [
       "<keras.src.callbacks.history.History at 0x2751df5ed90>"
      ]
     },
     "execution_count": 36,
     "metadata": {},
     "output_type": "execute_result"
    }
   ],
   "source": [
    "# Train the second model\n",
    "model_tanh.fit(X, Y, epochs=200, verbose=0)"
   ]
  },
  {
   "cell_type": "code",
   "execution_count": 37,
   "metadata": {},
   "outputs": [
    {
     "name": "stdout",
     "output_type": "stream",
     "text": [
      "Prediction for [1, 2, 3, 4]: [[13.895441]]\n"
     ]
    }
   ],
   "source": [
    "# Test example 1\n",
    "test_input_tanh = np.array([1, 2, 3, 4])\n",
    "test_input_tanh = test_input_tanh.reshape((1, n_steps, n_features))\n",
    "prediction_tanh = model_tanh.predict(test_input_tanh, verbose=0)\n",
    "print(f\"Prediction for [1, 2, 3, 4]: {prediction_tanh}\")"
   ]
  },
  {
   "cell_type": "code",
   "execution_count": 38,
   "metadata": {},
   "outputs": [
    {
     "name": "stdout",
     "output_type": "stream",
     "text": [
      "Prediction for [300, 305, 310, 315]: [[42.63798]]\n"
     ]
    }
   ],
   "source": [
    "# Test example 2\n",
    "test_input_tanh2 = np.array([300, 305, 310, 315])\n",
    "test_input_tanh2 = test_input_tanh2.reshape((1, n_steps, n_features))\n",
    "prediction_tanh2 = model_tanh.predict(test_input_tanh2, verbose=0)\n",
    "print(f\"Prediction for [300, 305, 310, 315]: {prediction_tanh2}\")"
   ]
  }
 ],
 "metadata": {
  "colab": {
   "collapsed_sections": [],
   "name": "ML6.1-RNN_basic_1-Homework.ipynb",
   "provenance": []
  },
  "kernelspec": {
   "display_name": "IA",
   "language": "python",
   "name": "python3"
  },
  "language_info": {
   "codemirror_mode": {
    "name": "ipython",
    "version": 3
   },
   "file_extension": ".py",
   "mimetype": "text/x-python",
   "name": "python",
   "nbconvert_exporter": "python",
   "pygments_lexer": "ipython3",
   "version": "3.11.8"
  }
 },
 "nbformat": 4,
 "nbformat_minor": 1
}
