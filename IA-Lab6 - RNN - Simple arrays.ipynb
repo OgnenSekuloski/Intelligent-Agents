{
 "cells": [
  {
   "cell_type": "markdown",
   "metadata": {
    "colab_type": "text",
    "id": "VwaHxPqrnGCg"
   },
   "source": [
    "# Lab6 - RNN\n"
   ]
  },
  {
   "cell_type": "markdown",
   "metadata": {
    "colab_type": "text",
    "id": "dHsZmhiawSKu"
   },
   "source": [
    "## Create data\n",
    "\n",
    "Create 10 inputs and 10 outputs. Each input is one time-step, and contains a single feature. \n",
    "\n",
    "Each output value is 5 times the corresponding input value. "
   ]
  },
  {
   "cell_type": "code",
   "execution_count": 0,
   "metadata": {
    "colab": {},
    "colab_type": "code",
    "id": "nOP8U3Myvinz"
   },
   "outputs": [],
   "source": [
    "X = list()\n",
    "Y = list()\n",
    "X = [x+1 for x in range(10)]\n",
    "Y = [y * 5 for y in X]\n",
    "\n",
    "print(X)\n",
    "print(Y)"
   ]
  },
  {
   "cell_type": "markdown",
   "metadata": {
    "colab_type": "text",
    "id": "4SHcQ-fJwPT4"
   },
   "source": [
    "## Reshape Data\n",
    "The input to the RNN layer should be in 3D shape i.e. (samples, time-steps, features).\n",
    "- The samples are the number of samples in the input data. We have 10 samples in the input. \n",
    "- The time-steps is the number of time-steps per sample. We have 1 time-step. \n",
    "- Finally, features correspond to the number of features per time-step. We have one feature per time-step (univariate time series)\n",
    "\n",
    "**model.add(SimpleRNN(50, activation='relu', input_shape=(n_steps, n_features)))**"
   ]
  },
  {
   "cell_type": "code",
   "execution_count": 0,
   "metadata": {
    "colab": {},
    "colab_type": "code",
    "id": "Hf98maWmw_GY"
   },
   "outputs": [],
   "source": [
    "X = array(X).reshape(10, 1, 1)"
   ]
  },
  {
   "cell_type": "code",
   "execution_count": 0,
   "metadata": {
    "colab": {},
    "colab_type": "code",
    "id": "NQwnf8FmH8Nz"
   },
   "outputs": [],
   "source": [
    "X[0][0]"
   ]
  },
  {
   "cell_type": "markdown",
   "metadata": {
    "colab_type": "text",
    "id": "g1fKEOPXxEEX"
   },
   "source": [
    "## Create the model\n",
    "\n",
    "The model has RNN layer with 50 neurons and relu activation functions. \n",
    "<br>The input shape is (1,1) since the data has one time-step with one feature. "
   ]
  },
  {
   "cell_type": "code",
   "execution_count": 0,
   "metadata": {
    "colab": {},
    "colab_type": "code",
    "id": "D-J5maCdxJoE"
   },
   "outputs": [],
   "source": [
    "model = Sequential()\n",
    "model.add(SimpleRNN(50, activation='relu', input_shape=(1, 1)))\n",
    "model.add(Dense(1))\n",
    "model.compile(optimizer='adam', loss='mse')\n",
    "print(model.summary())"
   ]
  },
  {
   "cell_type": "code",
   "execution_count": 0,
   "metadata": {
    "colab": {},
    "colab_type": "code",
    "id": "x4B4W3e5xl0g"
   },
   "outputs": [],
   "source": [
    "model.fit(X, Y, epochs=200, batch_size=1, validation_split=0.2, verbose = 0)"
   ]
  },
  {
   "cell_type": "markdown",
   "metadata": {
    "colab_type": "text",
    "id": "Rzk2C5dPyCac"
   },
   "source": [
    "## Make predictions\n",
    "\n",
    "Let's say we want to predict the output for an input of 30. The actual output should be 30 x 5 = 150. \n",
    "\n",
    "First, we need to convert our test data to the right shape i.e. 3D shape, as expected by RNN. "
   ]
  },
  {
   "cell_type": "code",
   "execution_count": 0,
   "metadata": {
    "colab": {},
    "colab_type": "code",
    "id": "Plw82Q__yCC7"
   },
   "outputs": [],
   "source": [
    "test_input = array([30])\n",
    "test_input = test_input.reshape((1, 1, 1))\n",
    "test_output = model.predict(test_input, verbose=0)\n",
    "print(test_output)"
   ]
  },
  {
   "cell_type": "markdown",
   "metadata": {
    "colab_type": "text",
    "id": "eNf699d93Hyz"
   },
   "source": [
    "# 2. One-to-One Sequence Problems with Multiple Features\n",
    "\n",
    "In the previous example, each input sample had one time-step, where each time-step had one feature. \n",
    "\n",
    "In this example the input time-steps have multiple features - multivariate time-series."
   ]
  },
  {
   "cell_type": "markdown",
   "metadata": {
    "colab_type": "text",
    "id": "rBxPbXBH3hsi"
   },
   "source": [
    "## Create data\n",
    "\n",
    "Create three lists: X1, X2, and Y. Each list has 25 elements, which means that that the total sample size is 25. Finally, Y contains the output."
   ]
  },
  {
   "cell_type": "code",
   "execution_count": 0,
   "metadata": {
    "colab": {},
    "colab_type": "code",
    "id": "qU3JSXN03hsm"
   },
   "outputs": [],
   "source": [
    "nums = 25\n",
    "\n",
    "X1 = list()\n",
    "X2 = list()\n",
    "X = list()\n",
    "Y = list()\n",
    "\n",
    "X1 = [(x+1)*2 for x in range(25)]\n",
    "X2 = [(x+1)*3 for x in range(25)]\n",
    "Y = [x1*x2 for x1,x2 in zip(X1,X2)]\n",
    "\n",
    "print(X1)\n",
    "print(X2)\n",
    "print(Y)"
   ]
  },
  {
   "cell_type": "markdown",
   "metadata": {
    "colab_type": "text",
    "id": "RyfYap9r4KOe"
   },
   "source": [
    "The input will consist of the combination of X1 and X2 lists, where each list will be represented as a column. \n",
    "\n",
    "Here the X variable contains our final feature set. You can see it contains two columns i.e. two features per input"
   ]
  },
  {
   "cell_type": "code",
   "execution_count": 0,
   "metadata": {
    "colab": {},
    "colab_type": "code",
    "id": "Y0uHx7mN3_nC"
   },
   "outputs": [],
   "source": [
    "X = np.column_stack((X1, X2))\n",
    "print(X)"
   ]
  },
  {
   "cell_type": "markdown",
   "metadata": {
    "colab_type": "text",
    "id": "ZkUIye4D3hst"
   },
   "source": [
    "## Reshape Data\n",
    "The input to the RNN layer should be in 3D shape i.e. (samples, time-steps, features).\n",
    "- The samples are the number of samples in the input data. We have 10 samples in the input. \n",
    "- The time-steps is the number of time-steps per sample. We have 1 time-step. \n",
    "- Finally, features correspond to the number of features per time-step. We have one feature per time-step (univariate time series)\n",
    "\n",
    "**model.add(SimpleRNN(50, activation='relu', input_shape=(n_steps, n_features)))**"
   ]
  },
  {
   "cell_type": "code",
   "execution_count": 0,
   "metadata": {
    "colab": {},
    "colab_type": "code",
    "id": "Cs_iBN7L3hsu"
   },
   "outputs": [],
   "source": [
    "X = array(X).reshape(25, 1, 2)\n",
    "print(X)"
   ]
  },
  {
   "cell_type": "markdown",
   "metadata": {
    "colab_type": "text",
    "id": "MtXI9i3T3hs0"
   },
   "source": [
    "## Create the model\n",
    "\n",
    "The RNN layer contains 80 neurons. We have two dense layers where first layer contains 10 neurons and the second dense layer, which also acts as the output layer, contains 1 neuron. "
   ]
  },
  {
   "cell_type": "code",
   "execution_count": 0,
   "metadata": {
    "colab": {},
    "colab_type": "code",
    "id": "rzE7IEgR3hs1"
   },
   "outputs": [],
   "source": [
    "model = Sequential()\n",
    "model.add(SimpleRNN(80, activation='relu', input_shape=(1, 2)))\n",
    "model.add(Dense(1))\n",
    "model.compile(optimizer='adam', loss='mse')\n",
    "print(model.summary())"
   ]
  },
  {
   "cell_type": "code",
   "execution_count": 0,
   "metadata": {
    "colab": {},
    "colab_type": "code",
    "id": "6VUD-UbM3hs6"
   },
   "outputs": [],
   "source": [
    "model.fit(X, Y, epochs=200, batch_size=1, verbose = 0)"
   ]
  },
  {
   "cell_type": "markdown",
   "metadata": {
    "colab_type": "text",
    "id": "GZL2NrSr3hs9"
   },
   "source": [
    "## Make predictions\n",
    "\n",
    "The data point will have two features i.e. (55,80) the actual output should be 55 x 80 = 4400. Let's see what our algorithm predicts"
   ]
  },
  {
   "cell_type": "code",
   "execution_count": 0,
   "metadata": {
    "colab": {},
    "colab_type": "code",
    "id": "OgcllexW3hs-"
   },
   "outputs": [],
   "source": [
    "test_input = array([55,80])\n",
    "test_input = test_input.reshape((1, 1, 2))\n",
    "test_output = model.predict(test_input, verbose=0)\n",
    "print(test_output)"
   ]
  },
  {
   "cell_type": "markdown",
   "metadata": {
    "colab_type": "text",
    "id": "ORy7IHeHvGwB"
   },
   "source": [
    "# 3. Many to One - Univariate (Single Feature)\n",
    "\n",
    "Each input sample has more than one time-step, however the output consists of a single element. Each time-step in the input can have one or more features. \n",
    "\n",
    "We will start with many-to-one sequence problems having one feature, and then we will see how to solve many-to-one problems where input time-steps have multiple features."
   ]
  },
  {
   "cell_type": "markdown",
   "metadata": {
    "colab_type": "text",
    "id": "2xIM5V7Rh4JZ"
   },
   "source": [
    "## Data preparation\n",
    "\n",
    "The following sequence is given: \n",
    "\n",
    "[10, 20, 30, 40, 50, 60, 70, 80, 90]\n",
    "\n",
    "The goal is to divide the sequence into multiple input/output patterns called samples. \n",
    "\n",
    "Where N time steps are used as input and one time step is used as output.\n",
    "\n",
    "If N = 3, then\n",
    "\n",
    "      X ------  y\n",
    "\n",
    "10, 20, 30 --- 40\n",
    "\n",
    "20, 30, 40 --- 50\n",
    "\n",
    "30, 40, 50 --- 60"
   ]
  },
  {
   "cell_type": "markdown",
   "metadata": {
    "colab_type": "text",
    "id": "awgpvBB7i5bH"
   },
   "source": [
    "## Data split function\n",
    "The split_sequence() function implements the example above. It  will split a given univariate sequence into multiple samples where each sample has a specified number of time steps and the output is a single time step."
   ]
  },
  {
   "cell_type": "code",
   "execution_count": 0,
   "metadata": {
    "colab": {},
    "colab_type": "code",
    "id": "Por82or3h5mT"
   },
   "outputs": [],
   "source": [
    "# split a univariate sequence into samples\n",
    "def split_sequence(sequence, n_steps):\n",
    "\tX, y = list(), list()\n",
    "\tfor i in range(len(sequence)):\n",
    "\t\t# find the end of this pattern\n",
    "\t\tend_ix = i + n_steps\n",
    "\t\t# check if we are beyond the sequence\n",
    "\t\tif end_ix > len(sequence)-1:\n",
    "\t\t\tbreak\n",
    "\t\t# gather input and output parts of the pattern\n",
    "\t\tseq_x, seq_y = sequence[i:end_ix], sequence[end_ix]\n",
    "\t\tX.append(seq_x)\n",
    "\t\ty.append(seq_y)\n",
    "\treturn array(X), array(y)"
   ]
  },
  {
   "cell_type": "markdown",
   "metadata": {
    "colab_type": "text",
    "id": "HOvv1oOdFRIv"
   },
   "source": [
    "## Data preparation"
   ]
  },
  {
   "cell_type": "code",
   "execution_count": 0,
   "metadata": {
    "colab": {},
    "colab_type": "code",
    "id": "4mHHz1yMjTY8"
   },
   "outputs": [],
   "source": [
    "# define input sequence\n",
    "seq = [10, 20, 30, 40, 50, 60, 70, 80, 90]\n",
    "# choose a number of time steps\n",
    "n_steps = 3\n",
    "# split into samples\n",
    "X, y = split_sequence(seq, n_steps)\n",
    "# summarize the data\n",
    "for i in range(len(X)):\n",
    "\tprint(X[i], y[i])"
   ]
  },
  {
   "cell_type": "markdown",
   "metadata": {
    "colab_type": "text",
    "id": "oNPoPkj_HB8h"
   },
   "source": [
    "## Reshape Data\n",
    "\n",
    "The model expects input shape for each sample in terms of the number of time steps and the number of features\n",
    "\n",
    "**model.add(SimpleRNN(50, activation='relu', input_shape=(n_steps, n_features)))**\n",
    "\n",
    "We are working with a univariate series, so the number of features is one, for one variable."
   ]
  },
  {
   "cell_type": "code",
   "execution_count": 0,
   "metadata": {
    "colab": {},
    "colab_type": "code",
    "id": "uno8KbfokoLj"
   },
   "outputs": [],
   "source": [
    "# reshape from [samples, timesteps] into [samples, timesteps, features]\n",
    "n_features = 1\n",
    "X = X.reshape((X.shape[0], X.shape[1], n_features))"
   ]
  },
  {
   "cell_type": "markdown",
   "metadata": {
    "colab_type": "text",
    "id": "6QG4Bbg1j2jm"
   },
   "source": [
    "## Train the Vanilla RNN model\n",
    "\n",
    "A Vanilla RNN is a model that has a single hidden layer of RNN units, and an output layer used to make a prediction.\n",
    "\n",
    "In this case, we define a model with 10 RNN units in the hidden layer and an output layer that predicts a single numerical value.\n",
    "\n"
   ]
  },
  {
   "cell_type": "code",
   "execution_count": 0,
   "metadata": {
    "colab": {},
    "colab_type": "code",
    "id": "P4ltdguxjbL_"
   },
   "outputs": [],
   "source": [
    "# define model\n",
    "model = Sequential()\n",
    "model.add(SimpleRNN(50, activation='relu', input_shape=(n_steps, n_features)))\n",
    "model.add(Dense(1))\n",
    "model.compile(optimizer='adam', loss='mse')"
   ]
  },
  {
   "cell_type": "code",
   "execution_count": 0,
   "metadata": {
    "colab": {},
    "colab_type": "code",
    "id": "VrU9W3g7kdPZ"
   },
   "outputs": [],
   "source": [
    "# fit model\n",
    "model.fit(X, y, epochs=200, verbose=0)"
   ]
  },
  {
   "cell_type": "markdown",
   "metadata": {
    "colab_type": "text",
    "id": "6Qyvhm0zH_Zy"
   },
   "source": [
    "## Make a prediciton"
   ]
  },
  {
   "cell_type": "code",
   "execution_count": 0,
   "metadata": {
    "colab": {},
    "colab_type": "code",
    "id": "2q2cdP9xkvqe"
   },
   "outputs": [],
   "source": [
    "# demonstrate prediction\n",
    "x_input = array([70, 80, 90])\n",
    "x_input = x_input.reshape((1, n_steps, n_features))\n",
    "prediction = model.predict(x_input, verbose=0)\n",
    "print (prediction)"
   ]
  },
  {
   "cell_type": "markdown",
   "metadata": {
    "colab_type": "text",
    "id": "hh6SkNW6NT1d"
   },
   "source": [
    "# HOMEWORK\n",
    "\n",
    "Train a Many to One RNN networks.\n",
    "Univariate time series, with 50 samples, and 4 time steps.\n",
    "\n",
    "X = [5, 10, 15, 20, 25 ... 250] (before data preparation)\n",
    "\n",
    "Y = [25, 30, 35, ... 250]\n",
    "\n",
    "- **Tip**: create X, then use the data split function from above to create the new X and Y.\n",
    "- Tip2: [(x+1)*5 for x in range(50)]\n",
    "\n",
    "Use SimpleRNN layer with 100 units.\n",
    "\n",
    "Train 2 models:\n",
    "- 1st with activation function = RELU\n",
    "- 2nd with activation function = tanh\n",
    "\n",
    "Evaluate the models on test example:\n",
    "- [1, 2, 3, 4]\n",
    "- [300, 305, 310, 315]"
   ]
  },
  {
   "cell_type": "code",
   "execution_count": 0,
   "metadata": {
    "colab": {},
    "colab_type": "code",
    "id": "0YZbiVeWNs8_"
   },
   "outputs": [],
   "source": []
  }
 ],
 "metadata": {
  "colab": {
   "collapsed_sections": [],
   "name": "ML6.1-RNN_basic_1-Homework.ipynb",
   "provenance": []
  },
  "kernelspec": {
   "display_name": "Python 3",
   "language": "python",
   "name": "python3"
  },
  "language_info": {
   "codemirror_mode": {
    "name": "ipython",
    "version": 3
   },
   "file_extension": ".py",
   "mimetype": "text/x-python",
   "name": "python",
   "nbconvert_exporter": "python",
   "pygments_lexer": "ipython3",
   "version": "3.8.8"
  }
 },
 "nbformat": 4,
 "nbformat_minor": 1
}
