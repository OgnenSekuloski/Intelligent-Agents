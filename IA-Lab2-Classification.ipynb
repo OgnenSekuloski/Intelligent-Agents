{
 "cells": [
  {
   "cell_type": "markdown",
   "metadata": {},
   "source": [
    "# Лабораториска вежба бр.2\n",
    "## Класификација\n",
    "\n",
    "Потребно е да се направи предвидување на тип на овошје според неговите дадени карактеристики:\n",
    "1. маса\n",
    "2. ширина\n",
    "3. висина\n",
    "4. боја\n",
    "\n",
    "Податочното множество е зачувано во датотеката \"fruit_data_with_colors.csv\" и податоците се дадени за два типа на овошје: јаболка и портокали. Да се реализираат следните чекори при одработување на вежбата:\n",
    "\n",
    "1. Со помош на библиотеката pandas прочитајте ја датотеката која го содржи множеството\n",
    "2. Влезните и излезните податоци зачувајте ги во променливите X и y, соодветно\n",
    "3. Извршете поделба за тренирање и тестирање со сооднос 70% према 30%. Резултатите да се зачуваат во променливите X_train, X_test, y_train, y_test соодветно.\n",
    "4. Извршете го дадениот код за да направите визуелизација на податоците за атрибутите маса и боја.\n",
    "5. Направете тренирање на повеќе алгоритми на класификација, дадени во листата подолу, евалуирајте ја нивната точност\n",
    "6. Испечатете Confusion Matrix за секој од истренираните алгоритми соодветно\n",
    "7. Споредете ги резултатите и образложете кој е најдобриот алгоритам за даденото податочно множество"
   ]
  },
  {
   "cell_type": "markdown",
   "metadata": {},
   "source": [
    "# Ќелија за вклучување на соодветни библиотеки"
   ]
  },
  {
   "cell_type": "code",
   "execution_count": 2,
   "metadata": {},
   "outputs": [],
   "source": [
    "#imports\n",
    "import numpy as np\n",
    "import pandas as pd\n",
    "import seaborn as sns\n",
    "\n",
    "import matplotlib.pyplot as plt\n",
    "from matplotlib.colors import ListedColormap\n",
    "\n",
    "from sklearn.model_selection import train_test_split\n",
    "\n",
    "%matplotlib inline"
   ]
  },
  {
   "cell_type": "markdown",
   "metadata": {},
   "source": [
    "# Ќелија за вчитување на податоците и сместување во соодветните променливи\n",
    "\n",
    "Користете pandas data frames и прикажете ги првите 5 редови.\n",
    "hint: \n",
    "- pd.read_csv('IA-Lab2-fruit_data_with_colors')\n",
    "- fruits[:5]"
   ]
  },
  {
   "cell_type": "code",
   "execution_count": null,
   "metadata": {},
   "outputs": [],
   "source": []
  },
  {
   "cell_type": "markdown",
   "metadata": {},
   "source": [
    "Класата ви се наоѓа во првата колона - fruit_label. Одделете ја во посебна променлива \"y\" и испечатете ги првите 5 вредности.\n",
    "- Google hint: select column from pandas dataframe"
   ]
  },
  {
   "cell_type": "code",
   "execution_count": null,
   "metadata": {},
   "outputs": [],
   "source": []
  },
  {
   "cell_type": "markdown",
   "metadata": {},
   "source": [
    "Одделете ги следните 4 колони во посебна променлива - X. \n",
    "<br>Тоа ќе ви бидат feature vectors.\n",
    "- ['mass', 'width', 'height', 'color_score']\n",
    "- Google hint: select columns from pandas dataframe\n",
    "\n",
    "Испечатете ги првите 5 вредности на Х"
   ]
  },
  {
   "cell_type": "markdown",
   "metadata": {},
   "source": []
  },
  {
   "cell_type": "markdown",
   "metadata": {},
   "source": [
    "# Поделба на множеството (train, test)\n",
    "\n",
    "Искористете: \n",
    "- X_train, X_test, y_train, y_test = train_test_split(X, y, test_size=.3, random_state=1)\n",
    "\n",
    "Испечатете колку редици и колку колони има секоја од променливите: X_train, X_test, y_train, y_test - користете \".shape\""
   ]
  },
  {
   "cell_type": "code",
   "execution_count": null,
   "metadata": {},
   "outputs": [],
   "source": []
  },
  {
   "cell_type": "markdown",
   "metadata": {},
   "source": [
    "Доколку досега се успешно сте завршиле, следниов код треба да ви испечати ScatterPlot на тренинг и на тест податоците за атрибутите: Mass и Color_Score"
   ]
  },
  {
   "cell_type": "code",
   "execution_count": null,
   "metadata": {},
   "outputs": [],
   "source": [
    "ax = plt.subplot(1, 1, 1)\n",
    "\n",
    "ax.set_title(\"Input data\")\n",
    "\n",
    "ax.scatter(X_train.iloc[:, [0]], X_train.iloc[:, [3]], c=y_train, \n",
    "           edgecolors='k')\n",
    "ax.set_xticks(())\n",
    "ax.set_yticks(())\n",
    "ax.set_xlabel(\"Mass\")\n",
    "ax.set_ylabel(\"Color_score\")"
   ]
  },
  {
   "cell_type": "markdown",
   "metadata": {},
   "source": [
    "## Дефинирање на алгоритми\n",
    "\n",
    "Соодветно креирајте ги 3те класификациски модели:\n",
    "- К најблиски соседи - со 3 најблиски соседи\n",
    "- Дрво на одлука - максимална длабочина 5 - max_depth=5\n",
    "- Невронска мрежа - Multilayer Perceptron - alpha=1, max_iter=1000\n",
    "\n",
    "Hint: \n",
    "- knn = KNeighborsClassifier(3)\n",
    "- dt = DecisionTreeClassifier(max_depth=5)\n",
    "- nn = MLPClassifier(alpha=1, max_iter=1000)"
   ]
  },
  {
   "cell_type": "code",
   "execution_count": null,
   "metadata": {},
   "outputs": [],
   "source": [
    "from sklearn.neighbors import KNeighborsClassifier\n",
    "from sklearn.tree import DecisionTreeClassifier\n",
    "from sklearn.neural_network import MLPClassifier"
   ]
  },
  {
   "cell_type": "markdown",
   "metadata": {},
   "source": [
    "## Tренирање и евалуација на алгоритмите \n",
    "\n",
    "За KNN на пример користете: knn.fit(X_train, y_train)\n",
    "    \n",
    "За добивање на точноста користете: knn_score = clf.score(X_test, y_test)\n",
    "\n",
    "Направете го тоа за сите 3 алгоритми/модели."
   ]
  },
  {
   "cell_type": "code",
   "execution_count": null,
   "metadata": {},
   "outputs": [],
   "source": []
  },
  {
   "cell_type": "markdown",
   "metadata": {},
   "source": [
    "Испечатете ја точноста на секој од трите алгоритми.\n",
    "\n",
    "print(\"KNN accuracy: \", knn_score)"
   ]
  },
  {
   "cell_type": "code",
   "execution_count": null,
   "metadata": {},
   "outputs": [],
   "source": []
  },
  {
   "cell_type": "markdown",
   "metadata": {},
   "source": [
    "## Печатење на Confusion Matrix за секој алгоритам соодветно\n",
    "\n",
    "Користете: confusion_matrix(y_test, y_pred_knn)\n",
    "\n",
    "Каде што: y_pred_knn = knn.predict(X_test)\n",
    "\n",
    "Направете го истото за останатите 2 алгоритми"
   ]
  },
  {
   "cell_type": "code",
   "execution_count": null,
   "metadata": {},
   "outputs": [],
   "source": [
    "from sklearn.metrics import confusion_matrix\n"
   ]
  },
  {
   "cell_type": "markdown",
   "metadata": {},
   "source": [
    "Споредете ги резултатите и образложете кој е најдобриот алгоритам за даденото податочно множество"
   ]
  },
  {
   "cell_type": "code",
   "execution_count": null,
   "metadata": {},
   "outputs": [],
   "source": []
  }
 ],
 "metadata": {
  "kernelspec": {
   "display_name": "Python 3",
   "language": "python",
   "name": "python3"
  },
  "language_info": {
   "codemirror_mode": {
    "name": "ipython",
    "version": 3
   },
   "file_extension": ".py",
   "mimetype": "text/x-python",
   "name": "python",
   "nbconvert_exporter": "python",
   "pygments_lexer": "ipython3",
   "version": "3.8.8"
  }
 },
 "nbformat": 4,
 "nbformat_minor": 2
}
