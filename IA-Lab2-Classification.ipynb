{
 "cells": [
  {
   "cell_type": "markdown",
   "metadata": {},
   "source": [
    "# Лабораториска вежба бр.2\n",
    "## Класификација\n",
    "\n",
    "Потребно е да се направи предвидување на тип на овошје според неговите дадени карактеристики:\n",
    "1. маса\n",
    "2. ширина\n",
    "3. висина\n",
    "4. боја\n",
    "\n",
    "Податочното множество е зачувано во датотеката \"fruit_data_with_colors.csv\" и податоците се дадени за два типа на овошје: јаболка и портокали. Да се реализираат следните чекори при одработување на вежбата:\n",
    "\n",
    "1. Со помош на библиотеката pandas прочитајте ја датотеката која го содржи множеството\n",
    "2. Влезните и излезните податоци зачувајте ги во променливите X и y, соодветно\n",
    "3. Извршете поделба за тренирање и тестирање со сооднос 70% према 30%. Резултатите да се зачуваат во променливите X_train, X_test, y_train, y_test соодветно.\n",
    "4. Извршете го дадениот код за да направите визуелизација на податоците за атрибутите маса и боја.\n",
    "5. Направете тренирање на повеќе алгоритми на класификација, дадени во листата подолу, евалуирајте ја нивната точност\n",
    "6. Испечатете Confusion Matrix за секој од истренираните алгоритми соодветно\n",
    "7. Споредете ги резултатите и образложете кој е најдобриот алгоритам за даденото податочно множество"
   ]
  },
  {
   "cell_type": "markdown",
   "metadata": {},
   "source": [
    "# Ќелија за вклучување на соодветни библиотеки"
   ]
  },
  {
   "cell_type": "code",
   "execution_count": 128,
   "metadata": {},
   "outputs": [],
   "source": [
    "#imports\n",
    "import numpy as np\n",
    "import pandas as pd\n",
    "import seaborn as sns\n",
    "\n",
    "import matplotlib.pyplot as plt\n",
    "from matplotlib.colors import ListedColormap\n",
    "\n",
    "from sklearn.model_selection import train_test_split\n",
    "\n",
    "%matplotlib inline"
   ]
  },
  {
   "cell_type": "markdown",
   "metadata": {},
   "source": [
    "# Ќелија за вчитување на податоците и сместување во соодветните променливи\n",
    "\n",
    "Користете pandas data frames и прикажете ги првите 5 редови.\n",
    "hint: \n",
    "- pd.read_csv('IA-Lab2-fruit_data_with_colors')\n",
    "- fruits[:5]"
   ]
  },
  {
   "cell_type": "code",
   "execution_count": 129,
   "metadata": {},
   "outputs": [
    {
     "name": "stdout",
     "output_type": "stream",
     "text": [
      "(38, 7)\n"
     ]
    },
    {
     "data": {
      "text/html": [
       "<div>\n",
       "<style scoped>\n",
       "    .dataframe tbody tr th:only-of-type {\n",
       "        vertical-align: middle;\n",
       "    }\n",
       "\n",
       "    .dataframe tbody tr th {\n",
       "        vertical-align: top;\n",
       "    }\n",
       "\n",
       "    .dataframe thead th {\n",
       "        text-align: right;\n",
       "    }\n",
       "</style>\n",
       "<table border=\"1\" class=\"dataframe\">\n",
       "  <thead>\n",
       "    <tr style=\"text-align: right;\">\n",
       "      <th></th>\n",
       "      <th>fruit_label</th>\n",
       "      <th>fruit_name</th>\n",
       "      <th>fruit_subtype</th>\n",
       "      <th>mass</th>\n",
       "      <th>width</th>\n",
       "      <th>height</th>\n",
       "      <th>color_score</th>\n",
       "    </tr>\n",
       "  </thead>\n",
       "  <tbody>\n",
       "    <tr>\n",
       "      <th>0</th>\n",
       "      <td>0</td>\n",
       "      <td>orange</td>\n",
       "      <td>turkey_navel</td>\n",
       "      <td>154</td>\n",
       "      <td>7.2</td>\n",
       "      <td>7.2</td>\n",
       "      <td>0.82</td>\n",
       "    </tr>\n",
       "    <tr>\n",
       "      <th>1</th>\n",
       "      <td>0</td>\n",
       "      <td>orange</td>\n",
       "      <td>selected_seconds</td>\n",
       "      <td>140</td>\n",
       "      <td>6.7</td>\n",
       "      <td>7.1</td>\n",
       "      <td>0.72</td>\n",
       "    </tr>\n",
       "    <tr>\n",
       "      <th>2</th>\n",
       "      <td>0</td>\n",
       "      <td>orange</td>\n",
       "      <td>spanish_jumbo</td>\n",
       "      <td>356</td>\n",
       "      <td>9.2</td>\n",
       "      <td>9.2</td>\n",
       "      <td>0.75</td>\n",
       "    </tr>\n",
       "    <tr>\n",
       "      <th>3</th>\n",
       "      <td>0</td>\n",
       "      <td>orange</td>\n",
       "      <td>turkey_navel</td>\n",
       "      <td>190</td>\n",
       "      <td>7.5</td>\n",
       "      <td>8.1</td>\n",
       "      <td>0.74</td>\n",
       "    </tr>\n",
       "    <tr>\n",
       "      <th>4</th>\n",
       "      <td>0</td>\n",
       "      <td>orange</td>\n",
       "      <td>turkey_navel</td>\n",
       "      <td>144</td>\n",
       "      <td>6.8</td>\n",
       "      <td>7.4</td>\n",
       "      <td>0.75</td>\n",
       "    </tr>\n",
       "  </tbody>\n",
       "</table>\n",
       "</div>"
      ],
      "text/plain": [
       "   fruit_label fruit_name     fruit_subtype  mass  width  height  color_score\n",
       "0            0     orange      turkey_navel   154    7.2     7.2         0.82\n",
       "1            0     orange  selected_seconds   140    6.7     7.1         0.72\n",
       "2            0     orange     spanish_jumbo   356    9.2     9.2         0.75\n",
       "3            0     orange      turkey_navel   190    7.5     8.1         0.74\n",
       "4            0     orange      turkey_navel   144    6.8     7.4         0.75"
      ]
     },
     "execution_count": 129,
     "metadata": {},
     "output_type": "execute_result"
    }
   ],
   "source": [
    "fruits = pd.read_csv('IA-Lab2-fruit_data_with_colors.csv')\n",
    "print(fruits.shape)\n",
    "fruits.head()\n"
   ]
  },
  {
   "cell_type": "markdown",
   "metadata": {},
   "source": [
    "Класата ви се наоѓа во првата колона - fruit_label. Одделете ја во посебна променлива \"y\" и испечатете ги првите 5 вредности.\n",
    "- Google hint: select column from pandas dataframe"
   ]
  },
  {
   "cell_type": "code",
   "execution_count": 130,
   "metadata": {},
   "outputs": [
    {
     "data": {
      "text/plain": [
       "0    0\n",
       "1    0\n",
       "2    0\n",
       "3    0\n",
       "4    0\n",
       "Name: fruit_label, dtype: int64"
      ]
     },
     "execution_count": 130,
     "metadata": {},
     "output_type": "execute_result"
    }
   ],
   "source": [
    "y = fruits['fruit_label']\n",
    "y.head()"
   ]
  },
  {
   "cell_type": "markdown",
   "metadata": {},
   "source": [
    "Одделете ги следните 4 колони во посебна променлива - X. \n",
    "<br>Тоа ќе ви бидат feature vectors.\n",
    "- ['mass', 'width', 'height', 'color_score']\n",
    "- Google hint: select columns from pandas dataframe\n",
    "\n",
    "Испечатете ги првите 5 вредности на Х"
   ]
  },
  {
   "cell_type": "code",
   "execution_count": 131,
   "metadata": {},
   "outputs": [
    {
     "data": {
      "text/html": [
       "<div>\n",
       "<style scoped>\n",
       "    .dataframe tbody tr th:only-of-type {\n",
       "        vertical-align: middle;\n",
       "    }\n",
       "\n",
       "    .dataframe tbody tr th {\n",
       "        vertical-align: top;\n",
       "    }\n",
       "\n",
       "    .dataframe thead th {\n",
       "        text-align: right;\n",
       "    }\n",
       "</style>\n",
       "<table border=\"1\" class=\"dataframe\">\n",
       "  <thead>\n",
       "    <tr style=\"text-align: right;\">\n",
       "      <th></th>\n",
       "      <th>mass</th>\n",
       "      <th>width</th>\n",
       "      <th>height</th>\n",
       "      <th>color_score</th>\n",
       "    </tr>\n",
       "  </thead>\n",
       "  <tbody>\n",
       "    <tr>\n",
       "      <th>0</th>\n",
       "      <td>154</td>\n",
       "      <td>7.2</td>\n",
       "      <td>7.2</td>\n",
       "      <td>0.82</td>\n",
       "    </tr>\n",
       "    <tr>\n",
       "      <th>1</th>\n",
       "      <td>140</td>\n",
       "      <td>6.7</td>\n",
       "      <td>7.1</td>\n",
       "      <td>0.72</td>\n",
       "    </tr>\n",
       "    <tr>\n",
       "      <th>2</th>\n",
       "      <td>356</td>\n",
       "      <td>9.2</td>\n",
       "      <td>9.2</td>\n",
       "      <td>0.75</td>\n",
       "    </tr>\n",
       "    <tr>\n",
       "      <th>3</th>\n",
       "      <td>190</td>\n",
       "      <td>7.5</td>\n",
       "      <td>8.1</td>\n",
       "      <td>0.74</td>\n",
       "    </tr>\n",
       "    <tr>\n",
       "      <th>4</th>\n",
       "      <td>144</td>\n",
       "      <td>6.8</td>\n",
       "      <td>7.4</td>\n",
       "      <td>0.75</td>\n",
       "    </tr>\n",
       "  </tbody>\n",
       "</table>\n",
       "</div>"
      ],
      "text/plain": [
       "   mass  width  height  color_score\n",
       "0   154    7.2     7.2         0.82\n",
       "1   140    6.7     7.1         0.72\n",
       "2   356    9.2     9.2         0.75\n",
       "3   190    7.5     8.1         0.74\n",
       "4   144    6.8     7.4         0.75"
      ]
     },
     "execution_count": 131,
     "metadata": {},
     "output_type": "execute_result"
    }
   ],
   "source": [
    "x = fruits[['mass', 'width', 'height', 'color_score']]\n",
    "x.head()\n"
   ]
  },
  {
   "cell_type": "code",
   "execution_count": 132,
   "metadata": {},
   "outputs": [
    {
     "name": "stdout",
     "output_type": "stream",
     "text": [
      "['orange' 'apple']\n"
     ]
    }
   ],
   "source": [
    "print (fruits['fruit_name'].unique())\n"
   ]
  },
  {
   "cell_type": "markdown",
   "metadata": {},
   "source": [
    "# Поделба на множеството (train, test)\n",
    "\n",
    "Искористете: \n",
    "- X_train, X_test, y_train, y_test = train_test_split(X, y, test_size=.3, random_state=1)\n",
    "\n",
    "Испечатете колку редици и колку колони има секоја од променливите: X_train, X_test, y_train, y_test - користете \".shape\""
   ]
  },
  {
   "cell_type": "code",
   "execution_count": 133,
   "metadata": {},
   "outputs": [
    {
     "name": "stdout",
     "output_type": "stream",
     "text": [
      "Shape of x_train:  (30, 4)\n",
      "Shape of x_test:  (8, 4)\n",
      "Shape of y_train:  (30,)\n",
      "Shape of y_test:  (8,)\n"
     ]
    }
   ],
   "source": [
    "x_train, x_test, y_train, y_test = train_test_split(x,y,test_size=0.2, random_state=1)\n",
    "print (\"Shape of x_train: \", x_train.shape)\n",
    "print (\"Shape of x_test: \", x_test.shape)\n",
    "print (\"Shape of y_train: \", y_train.shape)\n",
    "print (\"Shape of y_test: \", y_test.shape)"
   ]
  },
  {
   "cell_type": "markdown",
   "metadata": {},
   "source": [
    "Доколку досега се успешно сте завршиле, следниов код треба да ви испечати ScatterPlot на тренинг и на тест податоците за атрибутите: Mass и Color_Score"
   ]
  },
  {
   "cell_type": "code",
   "execution_count": 134,
   "metadata": {},
   "outputs": [
    {
     "data": {
      "text/plain": [
       "Text(0, 0.5, 'Color_score')"
      ]
     },
     "execution_count": 134,
     "metadata": {},
     "output_type": "execute_result"
    },
    {
     "data": {
      "image/png": "[encoded data removed]",
      "text/plain": [
       "<Figure size 640x480 with 1 Axes>"
      ]
     },
     "metadata": {},
     "output_type": "display_data"
    }
   ],
   "source": [
    "ax = plt.subplot(1, 1, 1)\n",
    "\n",
    "ax.set_title(\"Input data\")\n",
    "\n",
    "ax.scatter(x_train.iloc[:, [0]], x_train.iloc[:, [3]], c=y_train, \n",
    "           edgecolors='k')\n",
    "ax.set_xticks(())\n",
    "ax.set_yticks(())\n",
    "ax.set_xlabel(\"Mass\")\n",
    "ax.set_ylabel(\"Color_score\")"
   ]
  },
  {
   "cell_type": "markdown",
   "metadata": {},
   "source": [
    "## Дефинирање на алгоритми\n",
    "\n",
    "Соодветно креирајте ги 3те класификациски модели:\n",
    "- К најблиски соседи - со 3 најблиски соседи\n",
    "- Дрво на одлука - максимална длабочина 5 - max_depth=5\n",
    "- Невронска мрежа - Multilayer Perceptron - alpha=1, max_iter=1000\n",
    "\n",
    "Hint: \n",
    "- knn = KNeighborsClassifier(3)\n",
    "- dt = DecisionTreeClassifier(max_depth=5)\n",
    "- nn = MLPClassifier(alpha=1, max_iter=1000)"
   ]
  },
  {
   "cell_type": "code",
   "execution_count": 135,
   "metadata": {},
   "outputs": [],
   "source": [
    "from sklearn.neighbors import KNeighborsClassifier\n",
    "from sklearn.tree import DecisionTreeClassifier\n",
    "from sklearn.neural_network import MLPClassifier\n",
    "\n",
    "knn = KNeighborsClassifier(3)\n",
    "dt = DecisionTreeClassifier(max_depth=5)\n",
    "nn = MLPClassifier(alpha=1, max_iter=1000)\n"
   ]
  },
  {
   "cell_type": "markdown",
   "metadata": {},
   "source": [
    "## Tренирање и евалуација на алгоритмите \n",
    "\n",
    "За KNN на пример користете: knn.fit(X_train, y_train)\n",
    "    \n",
    "За добивање на точноста користете: knn_score = clf.score(X_test, y_test)\n",
    "\n",
    "Направете го тоа за сите 3 алгоритми/модели."
   ]
  },
  {
   "cell_type": "code",
   "execution_count": 136,
   "metadata": {},
   "outputs": [],
   "source": [
    "knn.fit(x_train, y_train)\n",
    "knn_score = knn.score(x_test, y_test)\n",
    "\n",
    "dt.fit(x_train, y_train)\n",
    "dt_score = dt.score(x_test, y_test)\n",
    "\n",
    "nn.fit(x_train, y_train)\n",
    "nn_score = nn.score(x_test, y_test)"
   ]
  },
  {
   "cell_type": "markdown",
   "metadata": {},
   "source": [
    "Испечатете ја точноста на секој од трите алгоритми.\n",
    "\n",
    "print(\"KNN accuracy: \", knn_score)"
   ]
  },
  {
   "cell_type": "code",
   "execution_count": 137,
   "metadata": {},
   "outputs": [
    {
     "name": "stdout",
     "output_type": "stream",
     "text": [
      "KNN accuracy:  0.375\n",
      "Decision Tree accuracy:  1.0\n",
      "Neural Network accuracy:  0.5\n"
     ]
    }
   ],
   "source": [
    "print (\"KNN accuracy: \", knn_score)\n",
    "print (\"Decision Tree accuracy: \", dt_score)\n",
    "print (\"Neural Network accuracy: \", nn_score)"
   ]
  },
  {
   "cell_type": "markdown",
   "metadata": {},
   "source": [
    "## Печатење на Confusion Matrix за секој алгоритам соодветно\n",
    "\n",
    "Користете: confusion_matrix(y_test, y_pred_knn)\n",
    "\n",
    "Каде што: y_pred_knn = knn.predict(X_test)\n",
    "\n",
    "Направете го истото за останатите 2 алгоритми"
   ]
  },
  {
   "cell_type": "code",
   "execution_count": 138,
   "metadata": {},
   "outputs": [],
   "source": [
    "from sklearn.metrics import confusion_matrix\n",
    "\n",
    "y_pred_knn = knn.predict(x_test)\n",
    "y_pred_dt = dt.predict(x_test)\n",
    "y_pred_nn = nn.predict(x_test)"
   ]
  },
  {
   "cell_type": "code",
   "execution_count": 139,
   "metadata": {},
   "outputs": [
    {
     "data": {
      "text/html": [
       "<div>\n",
       "<style scoped>\n",
       "    .dataframe tbody tr th:only-of-type {\n",
       "        vertical-align: middle;\n",
       "    }\n",
       "\n",
       "    .dataframe tbody tr th {\n",
       "        vertical-align: top;\n",
       "    }\n",
       "\n",
       "    .dataframe thead th {\n",
       "        text-align: right;\n",
       "    }\n",
       "</style>\n",
       "<table border=\"1\" class=\"dataframe\">\n",
       "  <thead>\n",
       "    <tr style=\"text-align: right;\">\n",
       "      <th></th>\n",
       "      <th>orange</th>\n",
       "      <th>apple</th>\n",
       "    </tr>\n",
       "  </thead>\n",
       "  <tbody>\n",
       "    <tr>\n",
       "      <th>orange</th>\n",
       "      <td>1</td>\n",
       "      <td>1</td>\n",
       "    </tr>\n",
       "    <tr>\n",
       "      <th>apple</th>\n",
       "      <td>4</td>\n",
       "      <td>2</td>\n",
       "    </tr>\n",
       "  </tbody>\n",
       "</table>\n",
       "</div>"
      ],
      "text/plain": [
       "        orange  apple\n",
       "orange       1      1\n",
       "apple        4      2"
      ]
     },
     "execution_count": 139,
     "metadata": {},
     "output_type": "execute_result"
    }
   ],
   "source": [
    "cm_knn = confusion_matrix(y_test, y_pred_knn)\n",
    "matrix = pd.DataFrame(cm_knn, columns=fruits['fruit_name'].unique(), index=fruits['fruit_name'].unique())\n",
    "matrix"
   ]
  },
  {
   "cell_type": "code",
   "execution_count": 140,
   "metadata": {},
   "outputs": [
    {
     "data": {
      "text/html": [
       "<div>\n",
       "<style scoped>\n",
       "    .dataframe tbody tr th:only-of-type {\n",
       "        vertical-align: middle;\n",
       "    }\n",
       "\n",
       "    .dataframe tbody tr th {\n",
       "        vertical-align: top;\n",
       "    }\n",
       "\n",
       "    .dataframe thead th {\n",
       "        text-align: right;\n",
       "    }\n",
       "</style>\n",
       "<table border=\"1\" class=\"dataframe\">\n",
       "  <thead>\n",
       "    <tr style=\"text-align: right;\">\n",
       "      <th></th>\n",
       "      <th>orange</th>\n",
       "      <th>apple</th>\n",
       "    </tr>\n",
       "  </thead>\n",
       "  <tbody>\n",
       "    <tr>\n",
       "      <th>orange</th>\n",
       "      <td>2</td>\n",
       "      <td>0</td>\n",
       "    </tr>\n",
       "    <tr>\n",
       "      <th>apple</th>\n",
       "      <td>0</td>\n",
       "      <td>6</td>\n",
       "    </tr>\n",
       "  </tbody>\n",
       "</table>\n",
       "</div>"
      ],
      "text/plain": [
       "        orange  apple\n",
       "orange       2      0\n",
       "apple        0      6"
      ]
     },
     "execution_count": 140,
     "metadata": {},
     "output_type": "execute_result"
    }
   ],
   "source": [
    "cm_dt = confusion_matrix(y_test, y_pred_dt)\n",
    "matrix = pd.DataFrame(cm_dt, columns=fruits['fruit_name'].unique(), index=fruits['fruit_name'].unique())\n",
    "matrix"
   ]
  },
  {
   "cell_type": "code",
   "execution_count": 141,
   "metadata": {},
   "outputs": [
    {
     "data": {
      "text/html": [
       "<div>\n",
       "<style scoped>\n",
       "    .dataframe tbody tr th:only-of-type {\n",
       "        vertical-align: middle;\n",
       "    }\n",
       "\n",
       "    .dataframe tbody tr th {\n",
       "        vertical-align: top;\n",
       "    }\n",
       "\n",
       "    .dataframe thead th {\n",
       "        text-align: right;\n",
       "    }\n",
       "</style>\n",
       "<table border=\"1\" class=\"dataframe\">\n",
       "  <thead>\n",
       "    <tr style=\"text-align: right;\">\n",
       "      <th></th>\n",
       "      <th>orange</th>\n",
       "      <th>apple</th>\n",
       "    </tr>\n",
       "  </thead>\n",
       "  <tbody>\n",
       "    <tr>\n",
       "      <th>orange</th>\n",
       "      <td>2</td>\n",
       "      <td>0</td>\n",
       "    </tr>\n",
       "    <tr>\n",
       "      <th>apple</th>\n",
       "      <td>4</td>\n",
       "      <td>2</td>\n",
       "    </tr>\n",
       "  </tbody>\n",
       "</table>\n",
       "</div>"
      ],
      "text/plain": [
       "        orange  apple\n",
       "orange       2      0\n",
       "apple        4      2"
      ]
     },
     "execution_count": 141,
     "metadata": {},
     "output_type": "execute_result"
    }
   ],
   "source": [
    "cm_nn = confusion_matrix(y_test, y_pred_nn)\n",
    "matrix = pd.DataFrame(cm_nn, columns=fruits['fruit_name'].unique(), index=fruits['fruit_name'].unique())\n",
    "matrix"
   ]
  },
  {
   "cell_type": "markdown",
   "metadata": {},
   "source": [
    "Споредете ги резултатите и образложете кој е најдобриот алгоритам за даденото податочно множество"
   ]
  },
  {
   "cell_type": "markdown",
   "metadata": {},
   "source": [
    "Најдобриот алгоритам за даденото податочно множество е \"Decision Tree\" бидејќи успева да ги разликува јаболката и портокалите 100%. Следен е невронската мрежа и најлош е KNN."
   ]
  }
 ],
 "metadata": {
  "kernelspec": {
   "display_name": "IA",
   "language": "python",
   "name": "python3"
  },
  "language_info": {
   "codemirror_mode": {
    "name": "ipython",
    "version": 3
   },
   "file_extension": ".py",
   "mimetype": "text/x-python",
   "name": "python",
   "nbconvert_exporter": "python",
   "pygments_lexer": "ipython3",
   "version": "3.11.8"
  }
 },
 "nbformat": 4,
 "nbformat_minor": 2
}
